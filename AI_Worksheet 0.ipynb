{
  "nbformat": 4,
  "nbformat_minor": 0,
  "metadata": {
    "colab": {
      "provenance": []
    },
    "kernelspec": {
      "name": "python3",
      "display_name": "Python 3"
    },
    "language_info": {
      "name": "python"
    }
  },
  "cells": [
    {
      "cell_type": "code",
      "source": [
        "import sys\n",
        "\n",
        "# Check Python version\n",
        "if sys.version_info.major == 3 and sys.version_info.minor >= 6:\n",
        "    print(\"Hello, World!\")\n",
        "    print(f\"Python version: {sys.version}\")\n",
        "else:\n",
        "    print(\"Please use Python 3.6 or higher.\")\n"
      ],
      "metadata": {
        "colab": {
          "base_uri": "https://localhost:8080/"
        },
        "id": "OA7Gm1fzDmGs",
        "outputId": "6a452d54-3a6e-4719-8093-e011f16144d0"
      },
      "execution_count": null,
      "outputs": [
        {
          "output_type": "stream",
          "name": "stdout",
          "text": [
            "Hello, World!\n",
            "Python version: 3.11.11 (main, Dec  4 2024, 08:55:07) [GCC 11.4.0]\n"
          ]
        }
      ]
    },
    {
      "cell_type": "code",
      "source": [
        "# Mutable Data Type Example (List)\n",
        "my_list = [1, 2, 3]\n",
        "print(\"Original List:\", my_list)\n",
        "# Modifying the list (changing contents)\n",
        "my_list.append(4)\n",
        "print(\"Modified List:\", my_list)\n",
        "\n",
        "# Immutable Data Type Example (Tuple)\n",
        "my_tuple = (1, 2, 3)\n",
        "print(\"Original Tuple:\", my_tuple)\n"
      ],
      "metadata": {
        "colab": {
          "base_uri": "https://localhost:8080/"
        },
        "id": "7qt-GLwLDqRJ",
        "outputId": "c1bf7cf5-74dc-44e2-e12e-8da3ef3901a3"
      },
      "execution_count": null,
      "outputs": [
        {
          "output_type": "stream",
          "name": "stdout",
          "text": [
            "Original List: [1, 2, 3]\n",
            "Modified List: [1, 2, 3, 4]\n",
            "Original Tuple: (1, 2, 3)\n"
          ]
        }
      ]
    },
    {
      "cell_type": "code",
      "source": [
        "age = 23  # int\n",
        "pi = 3.14  # float\n",
        "temperature = -5.5  # float\n",
        "\n",
        "print(\"data type of variable age = \", type(age))\n",
        "print(\"data type of variable pi = \", type(pi))\n",
        "print(\"data type of variable temperature = \", type(temperature))\n"
      ],
      "metadata": {
        "colab": {
          "base_uri": "https://localhost:8080/"
        },
        "id": "vcsSWi8oD2Ka",
        "outputId": "ee6dd98c-e556-432d-f3ca-bd75c4329b0e"
      },
      "execution_count": null,
      "outputs": [
        {
          "output_type": "stream",
          "name": "stdout",
          "text": [
            "data type of variable age =  <class 'int'>\n",
            "data type of variable pi =  <class 'float'>\n",
            "data type of variable temperature =  <class 'float'>\n"
          ]
        }
      ]
    },
    {
      "cell_type": "code",
      "source": [
        "name = \"Alice\"\n",
        "greeting = \"Hello\"  # Changed to use regular double quotes\n",
        "address = \"123 Main St\"\n",
        "\n",
        "print(\"data type of the variable name = \", type(name))\n",
        "print(\"data type of the variable greeting = \", type(greeting))\n",
        "print(\"data type of the variable address = \", type(address))\n",
        "\n",
        "# Slice only one element\n",
        "print(\"The first letter of the name is:\", name[0])\n",
        "print(\"The last letter of the name is:\", name[-1])\n",
        "\n",
        "# Slice a range of elements\n",
        "print(\"The second letter to the fourth of the name is:\", name[1:4])\n",
        "print(\"The first two letters of the name are:\", name[:2])\n",
        "print(\"Substring starting from the third letter is:\", name[2:])\n"
      ],
      "metadata": {
        "colab": {
          "base_uri": "https://localhost:8080/"
        },
        "id": "TGSbXtc5D87i",
        "outputId": "a86d0360-1c0f-4a2d-e0db-c26b445df8da"
      },
      "execution_count": null,
      "outputs": [
        {
          "output_type": "stream",
          "name": "stdout",
          "text": [
            "data type of the variable name =  <class 'str'>\n",
            "data type of the variable greeting =  <class 'str'>\n",
            "data type of the variable address =  <class 'str'>\n",
            "The first letter of the name is: A\n",
            "The last letter of the name is: e\n",
            "The second letter to the fourth of the name is: lic\n",
            "The first two letters of the name are: Al\n",
            "Substring starting from the third letter is: ice\n"
          ]
        }
      ]
    },
    {
      "cell_type": "code",
      "source": [
        "list1 = [1, 2, 3, 4]\n",
        "mixed_list = [12, \"Hello\", True]\n",
        "# List is mutable\n",
        "mixed_list[0] = False\n",
        "mixed_list"
      ],
      "metadata": {
        "colab": {
          "base_uri": "https://localhost:8080/"
        },
        "id": "eLGxZ6abEFDe",
        "outputId": "dac54ac7-36c6-47b3-c75c-2e4e61633c48"
      },
      "execution_count": null,
      "outputs": [
        {
          "output_type": "execute_result",
          "data": {
            "text/plain": [
              "[False, 'Hello', True]"
            ]
          },
          "metadata": {},
          "execution_count": 5
        }
      ]
    },
    {
      "cell_type": "code",
      "source": [
        "person = {'name': 'John', 'age': 30, 'city': 'Pittsburgh'}\n",
        "print(f\"Hello my name is {person['name']}. I am {person['age']} years old and I live at {person['city']}.\")\n",
        "print(\"All keys:\", list(person.keys()))\n",
        "print(\"All values:\", list(person.values()))\n"
      ],
      "metadata": {
        "colab": {
          "base_uri": "https://localhost:8080/"
        },
        "id": "jqdTUG9eFM6Y",
        "outputId": "485f845c-f2a9-4907-b499-8e4eedfbc0df"
      },
      "execution_count": null,
      "outputs": [
        {
          "output_type": "stream",
          "name": "stdout",
          "text": [
            "Hello my name is John. I am 30 years old and I live at Pittsburgh.\n",
            "All keys: ['name', 'age', 'city']\n",
            "All values: ['John', 30, 'Pittsburgh']\n"
          ]
        }
      ]
    },
    {
      "cell_type": "code",
      "source": [
        "unique_numbers = {1,2,3,3,3,3,4,5}\n",
        "print(unique_numbers)"
      ],
      "metadata": {
        "colab": {
          "base_uri": "https://localhost:8080/"
        },
        "id": "h894QQ5uFkTK",
        "outputId": "137e5522-e90b-4055-8d00-8626db6763cc"
      },
      "execution_count": null,
      "outputs": [
        {
          "output_type": "stream",
          "name": "stdout",
          "text": [
            "{1, 2, 3, 4, 5}\n"
          ]
        }
      ]
    },
    {
      "cell_type": "code",
      "source": [
        "is_student = True\n",
        "has_license = False\n",
        "print(\"data type of the variable is_student = \",type(is_student))\n",
        "print(\"data type of the variable has_license = \",type(has_license))"
      ],
      "metadata": {
        "colab": {
          "base_uri": "https://localhost:8080/"
        },
        "id": "GFlW2p90Fnc4",
        "outputId": "2f4468ab-ee1d-4415-ba60-4ce89ed9f620"
      },
      "execution_count": null,
      "outputs": [
        {
          "output_type": "stream",
          "name": "stdout",
          "text": [
            "data type of the variable is_student =  <class 'bool'>\n",
            "data type of the variable has_license =  <class 'bool'>\n"
          ]
        }
      ]
    },
    {
      "cell_type": "code",
      "source": [
        "result = None"
      ],
      "metadata": {
        "id": "eT6Zj5SxFrJR"
      },
      "execution_count": null,
      "outputs": []
    },
    {
      "cell_type": "code",
      "source": [
        "num = 10\n",
        "if num > 0:\n",
        "    print(\"Positive\")\n",
        "elif num == 0:\n",
        "    print(\"Zero\")\n",
        "else:\n",
        "    print(\"Non-positive\")\n"
      ],
      "metadata": {
        "colab": {
          "base_uri": "https://localhost:8080/"
        },
        "id": "47QzlJqWFul2",
        "outputId": "395ef785-52a8-48bd-b22b-9fcd6b7be058"
      },
      "execution_count": null,
      "outputs": [
        {
          "output_type": "stream",
          "name": "stdout",
          "text": [
            "Positive\n"
          ]
        }
      ]
    },
    {
      "cell_type": "code",
      "source": [
        "x = 5\n",
        "y = 10\n",
        "\n",
        "if x > 0 and y < 20:\n",
        "    print(\"Both conditions are true\")\n",
        "\n",
        "if x > 0 or y > 20:\n",
        "    print(\"At least one condition is true\")\n",
        "\n",
        "if not x == 0:\n",
        "    print(\"x is not equal to 0\")\n"
      ],
      "metadata": {
        "colab": {
          "base_uri": "https://localhost:8080/"
        },
        "id": "IW5hDFaWF5kk",
        "outputId": "7d3c83aa-dfac-49d8-c5e7-8949f6a5a7f8"
      },
      "execution_count": null,
      "outputs": [
        {
          "output_type": "stream",
          "name": "stdout",
          "text": [
            "Both conditions are true\n",
            "At least one condition is true\n",
            "x is not equal to 0\n"
          ]
        }
      ]
    },
    {
      "cell_type": "code",
      "source": [
        "# Define two boolean variables\n",
        "a = True\n",
        "b = False\n",
        "\n",
        "# Using the 'and' operator\n",
        "if a and b:\n",
        "    print(\"Both a and b are True\")\n",
        "else:\n",
        "    print(\"Either a or b is False\")  # This will be printed\n",
        "\n",
        "# Using the 'or' operator\n",
        "if a or b:\n",
        "    print(\"At least one of a or b is True\")  # This will be printed\n",
        "else:\n",
        "    print(\"Both a and b are False\")\n",
        "\n",
        "# Using the 'not' operator\n",
        "if not a:\n",
        "    print(\"a is False\")  # This will not be printed\n",
        "else:\n",
        "    print(\"a is True\")  # This will be printed\n"
      ],
      "metadata": {
        "colab": {
          "base_uri": "https://localhost:8080/"
        },
        "id": "ucI_SknfGCqK",
        "outputId": "c8100785-4e8d-42c2-b8dd-c1a4025aff5c"
      },
      "execution_count": null,
      "outputs": [
        {
          "output_type": "stream",
          "name": "stdout",
          "text": [
            "Either a or b is False\n",
            "At least one of a or b is True\n",
            "a is True\n"
          ]
        }
      ]
    },
    {
      "cell_type": "code",
      "source": [
        "# For loop:\n",
        "fruits = [\"apple\", \"banana\", \"cherry\"]\n",
        "print (fruits[0][3])\n",
        "for fruit in fruits:\n",
        "    print(fruit)\n",
        "\n",
        "# While loop:\n",
        "count = 0\n",
        "while count < 5:\n",
        "    print(\"Count is:\", count)\n",
        "    count += 1\n",
        "\n",
        "# Break\n",
        "fruits = [\"apple\", \"banana\", \"orange\"]\n",
        "print(\"loop 1\")\n",
        "for fruit in fruits:\n",
        "    print(fruit)\n",
        "    if fruit == \"apple\":\n",
        "        break  # Break the loop when \"apple\" is encountered\n",
        "\n",
        "# Continue\n",
        "print(\"loop 2\")\n",
        "for fruit in fruits:\n",
        "    if fruit == \"apple\":\n",
        "        continue  # Skip the \"apple\" and continue the loop\n",
        "    else:\n",
        "        print(fruit)\n"
      ],
      "metadata": {
        "colab": {
          "base_uri": "https://localhost:8080/"
        },
        "id": "Ehbv9fSmGKNf",
        "outputId": "3db67988-f0b8-43a2-bf70-3de89358f204"
      },
      "execution_count": null,
      "outputs": [
        {
          "output_type": "stream",
          "name": "stdout",
          "text": [
            "l\n",
            "apple\n",
            "banana\n",
            "cherry\n",
            "Count is: 0\n",
            "Count is: 1\n",
            "Count is: 2\n",
            "Count is: 3\n",
            "Count is: 4\n",
            "loop 1\n",
            "apple\n",
            "loop 2\n",
            "banana\n",
            "orange\n"
          ]
        }
      ]
    },
    {
      "cell_type": "code",
      "source": [
        "def add_binary(a, b):\n",
        "    '''\n",
        "    Returns the sum of two decimal numbers in binary digits.\n",
        "    Parameters:\n",
        "    a (int): A decimal integer\n",
        "    b (int): Another decimal integer\n",
        "    Returns:\n",
        "    binary_sum (str): Binary string of the sum of a and b\n",
        "    '''\n",
        "    binary_sum = bin(a + b)[2:]  # bin() returns a binary string starting with '0b', we slice it off with [2:]\n",
        "    return binary_sum\n"
      ],
      "metadata": {
        "id": "g9AURPvlGS8_"
      },
      "execution_count": null,
      "outputs": []
    },
    {
      "cell_type": "code",
      "source": [
        "print(\"Hello, World!\") # Output: Hello, World!\n",
        "length = len(\"Hello\") # Output: 5\n",
        "data_type = type(42) # Output: <class ’int’>\n",
        "total = sum([1, 2, 3]) # Output: 6"
      ],
      "metadata": {
        "colab": {
          "base_uri": "https://localhost:8080/"
        },
        "id": "Au57rFmzGpqP",
        "outputId": "0fd1ecb6-7157-4366-a889-3d519c951e59"
      },
      "execution_count": null,
      "outputs": [
        {
          "output_type": "stream",
          "name": "stdout",
          "text": [
            "Hello, World!\n"
          ]
        }
      ]
    },
    {
      "cell_type": "code",
      "source": [
        "# str.upper(): Converts all characters in a string to uppercase.\n",
        "message = \"hello\".upper() # Output: \"HELLO\"\n",
        "# list.append(): Adds an element to the end of a list.\n",
        "fruits = [\"apple\", \"banana\"]\n",
        "fruits.append(\"cherry\") # Output: [\"apple\", \"banana\", \"cherry\"]\n",
        "# dict.get(): Returns the value associated with a key in a dictionary.\n",
        "info = {\"name\": \"Alice\", \"age\": 25}\n",
        "age = info.get(\"age\") # Output: 25"
      ],
      "metadata": {
        "id": "43rrU048Gsdt"
      },
      "execution_count": null,
      "outputs": []
    },
    {
      "cell_type": "code",
      "source": [
        "def temperature_converter():\n",
        "    \"\"\"\n",
        "    Converts temperature between Celsius and Fahrenheit.\n",
        "    This function prompts the user to specify the conversion type (Celsius to Fahrenheit or\n",
        "    Fahrenheit to Celsius) and then asks for the temperature value. It calculates and returns the converted temperature.\n",
        "    Returns:\n",
        "    float: The converted temperature value.\n",
        "    \"\"\"\n",
        "    print(\"Choose conversion type:\")\n",
        "    print(\"1. Celsius to Fahrenheit\")\n",
        "    print(\"2. Fahrenheit to Celsius\")\n",
        "\n",
        "    # Get conversion choice from user\n",
        "    choice = input(\"Enter 1 or 2: \")\n",
        "\n",
        "    if choice == \"1\":\n",
        "        # Celsius to Fahrenheit conversion\n",
        "        celsius = float(input(\"Enter temperature in Celsius: \"))\n",
        "        fahrenheit = (celsius * 9/5) + 32\n",
        "        print(f\"{celsius}C is equal to {fahrenheit}F\")\n",
        "        return fahrenheit\n",
        "\n",
        "    elif choice == \"2\":\n",
        "        # Fahrenheit to Celsius conversion\n",
        "        fahrenheit = float(input(\"Enter temperature in Fahrenheit: \"))\n",
        "        celsius = (fahrenheit - 32) * 5/9\n",
        "        print(f\"{fahrenheit}F is equal to {celsius}C\")\n",
        "        return celsius\n",
        "\n",
        "    else:\n",
        "        print(\"Invalid choice. Please enter 1 or 2.\")\n",
        "        return None\n",
        "\n",
        "# Call the function\n",
        "temperature_converter()\n"
      ],
      "metadata": {
        "colab": {
          "base_uri": "https://localhost:8080/"
        },
        "id": "m7kZxdNSGvwG",
        "outputId": "aa1c870a-f0f4-4136-a182-8d2478640bb6"
      },
      "execution_count": null,
      "outputs": [
        {
          "output_type": "stream",
          "name": "stdout",
          "text": [
            "Choose conversion type:\n",
            "1. Celsius to Fahrenheit\n",
            "2. Fahrenheit to Celsius\n",
            "Enter 1 or 2: 1\n",
            "Enter temperature in Celsius: 25\n",
            "25.0C is equal to 77.0F\n"
          ]
        },
        {
          "output_type": "execute_result",
          "data": {
            "text/plain": [
              "77.0"
            ]
          },
          "metadata": {},
          "execution_count": 47
        }
      ]
    },
    {
      "cell_type": "code",
      "source": [
        "x = 10  # Global Variable.\n",
        "\n",
        "def print_global():\n",
        "    print(x)  # Accessing global variable\n",
        "\n",
        "print_global()  # Output: 10\n"
      ],
      "metadata": {
        "colab": {
          "base_uri": "https://localhost:8080/"
        },
        "id": "AmzVqkUZHFuT",
        "outputId": "25c3229b-115c-4565-f9ee-22fb188bb8b7"
      },
      "execution_count": null,
      "outputs": [
        {
          "output_type": "stream",
          "name": "stdout",
          "text": [
            "10\n"
          ]
        }
      ]
    },
    {
      "cell_type": "code",
      "source": [
        "def print_local():\n",
        "    y = 5  # Local variable\n",
        "    print(y)  # Prints the value of y inside the function\n",
        "\n",
        "print_local()\n",
        "\n"
      ],
      "metadata": {
        "colab": {
          "base_uri": "https://localhost:8080/"
        },
        "id": "BvwfvnDPHOGJ",
        "outputId": "58bcc2fa-cc79-4e54-a06c-debe3f548d1c"
      },
      "execution_count": null,
      "outputs": [
        {
          "output_type": "stream",
          "name": "stdout",
          "text": [
            "5\n"
          ]
        }
      ]
    },
    {
      "cell_type": "code",
      "source": [
        "x = 10  # Global variable\n",
        "\n",
        "def modify_global():\n",
        "    global x  # Declaring x as global\n",
        "    x = 20  # Modifying global x\n",
        "\n",
        "modify_global()\n",
        "print(x)  # Output: 20\n"
      ],
      "metadata": {
        "colab": {
          "base_uri": "https://localhost:8080/"
        },
        "id": "IDcysqRuHXYd",
        "outputId": "4092b447-a542-4a29-a14a-9a741721629d"
      },
      "execution_count": null,
      "outputs": [
        {
          "output_type": "stream",
          "name": "stdout",
          "text": [
            "20\n"
          ]
        }
      ]
    },
    {
      "cell_type": "markdown",
      "source": [
        "Task1"
      ],
      "metadata": {
        "id": "V9yhP6AXH2z-"
      }
    },
    {
      "cell_type": "code",
      "source": [
        "def length_converter(value, conversion_type):\n",
        "    \"\"\"\n",
        "    Converts between meters and feet.\n",
        "\n",
        "    Parameters:\n",
        "    value (float): The value to be converted.\n",
        "    conversion_type (str): The type of conversion ('m_to_ft' or 'ft_to_m').\n",
        "\n",
        "    Returns:\n",
        "    float: The converted value.\n",
        "    \"\"\"\n",
        "    if conversion_type == 'm_to_ft':\n",
        "        return value * 3.28084  # Convert meters to feet\n",
        "    elif conversion_type == 'ft_to_m':\n",
        "        return value / 3.28084  # Convert feet to meters\n",
        "    else:\n",
        "        raise ValueError(\"Unsupported conversion type for length\")\n",
        "\n",
        "def weight_converter(value, conversion_type):\n",
        "    \"\"\"\n",
        "    Converts between kilograms and pounds.\n",
        "\n",
        "    Parameters:\n",
        "    value (float): The value to be converted.\n",
        "    conversion_type (str): The type of conversion ('kg_to_lbs' or 'lbs_to_kg').\n",
        "\n",
        "    Returns:\n",
        "    float: The converted value.\n",
        "    \"\"\"\n",
        "    if conversion_type == 'kg_to_lbs':\n",
        "        return value * 2.20462  # Convert kilograms to pounds\n",
        "    elif conversion_type == 'lbs_to_kg':\n",
        "        return value / 2.20462  # Convert pounds to kilograms\n",
        "    else:\n",
        "        raise ValueError(\"Unsupported conversion type for weight\")\n",
        "\n",
        "def volume_converter(value, conversion_type):\n",
        "    \"\"\"\n",
        "    Converts between liters and gallons.\n",
        "\n",
        "    Parameters:\n",
        "    value (float): The value to be converted.\n",
        "    conversion_type (str): The type of conversion ('L_to_gal' or 'gal_to_L').\n",
        "\n",
        "    Returns:\n",
        "    float: The converted value.\n",
        "    \"\"\"\n",
        "    if conversion_type == 'L_to_gal':\n",
        "        return value * 0.264172  # Convert liters to gallons\n",
        "    elif conversion_type == 'gal_to_L':\n",
        "        return value / 0.264172  # Convert gallons to liters\n",
        "    else:\n",
        "        raise ValueError(\"Unsupported conversion type for volume\")\n",
        "\n",
        "def main():\n",
        "    \"\"\"\n",
        "    Main function to drive the unit conversion program.\n",
        "    Prompts the user to choose the conversion type, then performs the conversion.\n",
        "    \"\"\"\n",
        "    print(\"Welcome to the Unit Converter!\")\n",
        "    print(\"Choose a conversion type:\")\n",
        "    print(\"1. Length (meters to feet, feet to meters)\")\n",
        "    print(\"2. Weight (kilograms to pounds, pounds to kilograms)\")\n",
        "    print(\"3. Volume (liters to gallons, gallons to liters)\")\n",
        "\n",
        "    # Get conversion type choice from the user\n",
        "    try:\n",
        "        choice = int(input(\"Enter 1, 2, or 3: \"))\n",
        "\n",
        "        if choice == 1:\n",
        "            print(\"Length conversion:\")\n",
        "            conversion_type = input(\"Enter 'm_to_ft' for meters to feet or 'ft_to_m' for feet to meters: \")\n",
        "            value = float(input(\"Enter the value to be converted: \"))\n",
        "            result = length_converter(value, conversion_type)\n",
        "            print(f\"Converted value: {result}\")\n",
        "\n",
        "        elif choice == 2:\n",
        "            print(\"Weight conversion:\")\n",
        "            conversion_type = input(\"Enter 'kg_to_lbs' for kilograms to pounds or 'lbs_to_kg' for pounds to kilograms: \")\n",
        "            value = float(input(\"Enter the value to be converted: \"))\n",
        "            result = weight_converter(value, conversion_type)\n",
        "            print(f\"Converted value: {result}\")\n",
        "\n",
        "        elif choice == 3:\n",
        "            print(\"Volume conversion:\")\n",
        "            conversion_type = input(\"Enter 'L_to_gal' for liters to gallons or 'gal_to_L' for gallons to liters: \")\n",
        "            value = float(input(\"Enter the value to be converted: \"))\n",
        "            result = volume_converter(value, conversion_type)\n",
        "            print(f\"Converted value: {result}\")\n",
        "\n",
        "        else:\n",
        "            print(\"Invalid choice. Please select 1, 2, or 3.\")\n",
        "\n",
        "    except ValueError as e:\n",
        "        print(f\"Error: {e}. Please enter valid numbers and conversion types.\")\n",
        "\n",
        "if __name__ == \"__main__\":\n",
        "    main()\n"
      ],
      "metadata": {
        "colab": {
          "base_uri": "https://localhost:8080/"
        },
        "id": "oHmFR1_oHhag",
        "outputId": "6b51a4e0-fa3d-4293-cba1-78b51b5bbf6a"
      },
      "execution_count": null,
      "outputs": [
        {
          "output_type": "stream",
          "name": "stdout",
          "text": [
            "Welcome to the Unit Converter!\n",
            "Choose a conversion type:\n",
            "1. Length (meters to feet, feet to meters)\n",
            "2. Weight (kilograms to pounds, pounds to kilograms)\n",
            "3. Volume (liters to gallons, gallons to liters)\n",
            "Enter 1, 2, or 3: 3\n",
            "Volume conversion:\n",
            "Enter 'L_to_gal' for liters to gallons or 'gal_to_L' for gallons to liters: 30\n",
            "Enter the value to be converted: 5\n",
            "Error: Unsupported conversion type for volume. Please enter valid numbers and conversion types.\n"
          ]
        }
      ]
    },
    {
      "cell_type": "markdown",
      "source": [
        "taks2"
      ],
      "metadata": {
        "id": "jM8G16k3Iel2"
      }
    },
    {
      "cell_type": "code",
      "source": [
        "def find_sum(numbers):\n",
        "    \"\"\"\n",
        "    Calculates the sum of a list of numbers.\n",
        "\n",
        "    Parameters:\n",
        "    numbers (list): A list of numeric values.\n",
        "\n",
        "    Returns:\n",
        "    float: The sum of the numbers.\n",
        "    \"\"\"\n",
        "    return sum(numbers)\n",
        "\n",
        "def find_average(numbers):\n",
        "    \"\"\"\n",
        "    Calculates the average of a list of numbers.\n",
        "\n",
        "    Parameters:\n",
        "    numbers (list): A list of numeric values.\n",
        "\n",
        "    Returns:\n",
        "    float: The average of the numbers.\n",
        "    \"\"\"\n",
        "    if len(numbers) == 0:\n",
        "        raise ValueError(\"The list is empty, so the average cannot be calculated.\")\n",
        "    return sum(numbers) / len(numbers)\n",
        "\n",
        "def find_maximum(numbers):\n",
        "    \"\"\"\n",
        "    Finds the maximum value in a list of numbers.\n",
        "\n",
        "    Parameters:\n",
        "    numbers (list): A list of numeric values.\n",
        "\n",
        "    Returns:\n",
        "    float: The maximum value in the list.\n",
        "    \"\"\"\n",
        "    if len(numbers) == 0:\n",
        "        raise ValueError(\"The list is empty, so the maximum cannot be found.\")\n",
        "    return max(numbers)\n",
        "\n",
        "def find_minimum(numbers):\n",
        "    \"\"\"\n",
        "    Finds the minimum value in a list of numbers.\n",
        "\n",
        "    Parameters:\n",
        "    numbers (list): A list of numeric values.\n",
        "\n",
        "    Returns:\n",
        "    float: The minimum value in the list.\n",
        "    \"\"\"\n",
        "    if len(numbers) == 0:\n",
        "        raise ValueError(\"The list is empty, so the minimum cannot be found.\")\n",
        "    return min(numbers)\n",
        "\n",
        "def main():\n",
        "    \"\"\"\n",
        "    Main function to drive the mathematical operations program.\n",
        "    Prompts the user to choose an operation and then performs the selected operation on a list of numbers.\n",
        "    \"\"\"\n",
        "    print(\"Welcome to the Mathematical Operations Program!\")\n",
        "    print(\"Choose an operation:\")\n",
        "    print(\"1. Sum of the numbers\")\n",
        "    print(\"2. Average of the numbers\")\n",
        "    print(\"3. Maximum of the numbers\")\n",
        "    print(\"4. Minimum of the numbers\")\n",
        "\n",
        "    try:\n",
        "        # Get operation choice from the user\n",
        "        choice = int(input(\"Enter 1, 2, 3, or 4: \"))\n",
        "\n",
        "        # Get the list of numbers from the user\n",
        "        numbers_input = input(\"Enter a list of numbers (separated by spaces): \")\n",
        "        numbers = [float(num) for num in numbers_input.split()]\n",
        "\n",
        "        # Perform the selected operation\n",
        "        if choice == 1:\n",
        "            result = find_sum(numbers)\n",
        "            print(f\"The sum of the numbers is: {result}\")\n",
        "\n",
        "        elif choice == 2:\n",
        "            result = find_average(numbers)\n",
        "            print(f\"The average of the numbers is: {result}\")\n",
        "\n",
        "        elif choice == 3:\n",
        "            result = find_maximum(numbers)\n",
        "            print(f\"The maximum number is: {result}\")\n",
        "\n",
        "        elif choice == 4:\n",
        "            result = find_minimum(numbers)\n",
        "            print(f\"The minimum number is: {result}\")\n",
        "\n",
        "        else:\n",
        "            print(\"Invalid choice. Please enter a number between 1 and 4.\")\n",
        "\n",
        "    except ValueError as e:\n",
        "        print(f\"Error: {e}. Please enter valid numbers and operation choices.\")\n",
        "\n",
        "if __name__ == \"__main__\":\n",
        "    main()\n"
      ],
      "metadata": {
        "colab": {
          "base_uri": "https://localhost:8080/"
        },
        "id": "gOtwgc3ZIIHs",
        "outputId": "c6e1f49f-838b-4ba9-d6b0-cc80d84b07aa"
      },
      "execution_count": null,
      "outputs": [
        {
          "output_type": "stream",
          "name": "stdout",
          "text": [
            "Welcome to the Mathematical Operations Program!\n",
            "Choose an operation:\n",
            "1. Sum of the numbers\n",
            "2. Average of the numbers\n",
            "3. Maximum of the numbers\n",
            "4. Minimum of the numbers\n",
            "Enter 1, 2, 3, or 4: 2\n",
            "Enter a list of numbers (separated by spaces): 3\n",
            "The average of the numbers is: 3.0\n"
          ]
        }
      ]
    },
    {
      "cell_type": "markdown",
      "source": [
        "task 4.2"
      ],
      "metadata": {
        "id": "5oQVKrTwIg8b"
      }
    },
    {
      "cell_type": "code",
      "source": [
        "def extract_every_other(lst):\n",
        "    \"\"\"\n",
        "    Extracts every other element from a list, starting from the first element.\n",
        "\n",
        "    Parameters:\n",
        "    lst (list): A list of elements.\n",
        "\n",
        "    Returns:\n",
        "    list: A new list containing every other element from the original list.\n",
        "    \"\"\"\n",
        "    return lst[::2]  # Slicing the list to get every other element\n",
        "\n",
        "# Example usage:\n",
        "input_list = [1, 2, 3, 4, 5, 6]\n",
        "result = extract_every_other(input_list)\n",
        "print(f\"Original list: {input_list}\")\n",
        "print(f\"Every other element: {result}\")\n"
      ],
      "metadata": {
        "colab": {
          "base_uri": "https://localhost:8080/"
        },
        "id": "AyJYIT92IiGJ",
        "outputId": "1e24f441-8874-4571-aa2e-f3ca4598d499"
      },
      "execution_count": null,
      "outputs": [
        {
          "output_type": "stream",
          "name": "stdout",
          "text": [
            "Original list: [1, 2, 3, 4, 5, 6]\n",
            "Every other element: [1, 3, 5]\n"
          ]
        }
      ]
    },
    {
      "cell_type": "code",
      "source": [
        "def get_sublist(lst, start, end):\n",
        "    \"\"\"\n",
        "    Returns a sublist from the list starting from index 'start' and ending at index 'end' (inclusive).\n",
        "\n",
        "    Parameters:\n",
        "    lst (list): The original list from which to extract the sublist.\n",
        "    start (int): The starting index of the sublist (inclusive).\n",
        "    end (int): The ending index of the sublist (inclusive).\n",
        "\n",
        "    Returns:\n",
        "    list: The sublist from the 'start' index to the 'end' index.\n",
        "    \"\"\"\n",
        "    return lst[start:end+1]  # Slicing the list from start to end (inclusive)\n",
        "\n",
        "# Example usage:\n",
        "input_list = [1, 2, 3, 4, 5, 6]\n",
        "start_index = 2\n",
        "end_index = 4\n",
        "result = get_sublist(input_list, start_index, end_index)\n",
        "print(f\"Original list: {input_list}\")\n",
        "print(f\"Sublist from index {start_index} to {end_index}: {result}\")\n"
      ],
      "metadata": {
        "colab": {
          "base_uri": "https://localhost:8080/"
        },
        "id": "nGnm-NcmIuZw",
        "outputId": "43a916e4-b0fb-4315-e525-2aed95f30424"
      },
      "execution_count": null,
      "outputs": [
        {
          "output_type": "stream",
          "name": "stdout",
          "text": [
            "Original list: [1, 2, 3, 4, 5, 6]\n",
            "Sublist from index 2 to 4: [3, 4, 5]\n"
          ]
        }
      ]
    },
    {
      "cell_type": "code",
      "source": [
        "def reverse_list(lst):\n",
        "    \"\"\"\n",
        "    Reverses the given list using slicing.\n",
        "\n",
        "    Parameters:\n",
        "    lst (list): The list to be reversed.\n",
        "\n",
        "    Returns:\n",
        "    list: The reversed list.\n",
        "    \"\"\"\n",
        "    return lst[::-1]  # Reverses the list using slicing\n",
        "\n",
        "# Example usage:\n",
        "input_list = [1, 2, 3, 4, 5]\n",
        "result = reverse_list(input_list)\n",
        "print(f\"Original list: {input_list}\")\n",
        "print(f\"Reversed list: {result}\")\n"
      ],
      "metadata": {
        "colab": {
          "base_uri": "https://localhost:8080/"
        },
        "id": "iX8L8_QxI3dZ",
        "outputId": "a2b3a054-5714-4e86-9319-18cb84303c02"
      },
      "execution_count": null,
      "outputs": [
        {
          "output_type": "stream",
          "name": "stdout",
          "text": [
            "Original list: [1, 2, 3, 4, 5]\n",
            "Reversed list: [5, 4, 3, 2, 1]\n"
          ]
        }
      ]
    },
    {
      "cell_type": "code",
      "source": [
        "def remove_first_last(lst):\n",
        "    \"\"\"\n",
        "    Removes the first and last elements of the given list and returns the resulting sublist.\n",
        "\n",
        "    Parameters:\n",
        "    lst (list): The original list.\n",
        "\n",
        "    Returns:\n",
        "    list: The sublist without the first and last elements.\n",
        "    \"\"\"\n",
        "    return lst[1:-1]  # Slicing the list to exclude the first and last elements\n",
        "\n",
        "# Example usage:\n",
        "input_list = [1, 2, 3, 4, 5]\n",
        "result = remove_first_last(input_list)\n",
        "print(f\"Original list: {input_list}\")\n",
        "print(f\"List without the first and last elements: {result}\")\n"
      ],
      "metadata": {
        "colab": {
          "base_uri": "https://localhost:8080/"
        },
        "id": "Oy7sbVI_I-y5",
        "outputId": "ad3488cf-d3a6-4abc-9896-4e3a1f1e7dc1"
      },
      "execution_count": null,
      "outputs": [
        {
          "output_type": "stream",
          "name": "stdout",
          "text": [
            "Original list: [1, 2, 3, 4, 5]\n",
            "List without the first and last elements: [2, 3, 4]\n"
          ]
        }
      ]
    },
    {
      "cell_type": "code",
      "source": [
        "def get_first_n(lst, n):\n",
        "    \"\"\"\n",
        "    Extracts the first n elements from the given list using slicing.\n",
        "\n",
        "    Parameters:\n",
        "    lst (list): The original list from which elements are extracted.\n",
        "    n (int): The number of elements to extract from the beginning of the list.\n",
        "\n",
        "    Returns:\n",
        "    list: A list containing the first n elements of the original list.\n",
        "    \"\"\"\n",
        "    return lst[:n]  # Slicing the list to get the first n elements\n",
        "\n",
        "# Example usage:\n",
        "input_list = [1, 2, 3, 4, 5]\n",
        "n = 3\n",
        "result = get_first_n(input_list, n)\n",
        "print(f\"Original list: {input_list}\")\n",
        "print(f\"The first {n} elements: {result}\")\n"
      ],
      "metadata": {
        "colab": {
          "base_uri": "https://localhost:8080/"
        },
        "id": "-7chO9J2JGLI",
        "outputId": "ac96b176-589b-4a93-ef7e-fc331c33f037"
      },
      "execution_count": null,
      "outputs": [
        {
          "output_type": "stream",
          "name": "stdout",
          "text": [
            "Original list: [1, 2, 3, 4, 5]\n",
            "The first 3 elements: [1, 2, 3]\n"
          ]
        }
      ]
    },
    {
      "cell_type": "code",
      "source": [
        "def get_last_n(lst, n):\n",
        "    \"\"\"\n",
        "    Extracts the last n elements from the given list using slicing.\n",
        "\n",
        "    Parameters:\n",
        "    lst (list): The original list from which elements are extracted.\n",
        "    n (int): The number of elements to extract from the end of the list.\n",
        "\n",
        "    Returns:\n",
        "    list: A list containing the last n elements of the original list.\n",
        "    \"\"\"\n",
        "    return lst[-n:]  # Slicing the list to get the last n elements\n",
        "\n",
        "# Example usage:\n",
        "input_list = [1, 2, 3, 4, 5]\n",
        "n = 2\n",
        "result = get_last_n(input_list, n)\n",
        "print(f\"Original list: {input_list}\")\n",
        "print(f\"The last {n} elements: {result}\")\n"
      ],
      "metadata": {
        "colab": {
          "base_uri": "https://localhost:8080/"
        },
        "id": "rRV6gDLvJOA0",
        "outputId": "49db5f5f-8ea8-4f30-d0d7-6ca4c70a685c"
      },
      "execution_count": null,
      "outputs": [
        {
          "output_type": "stream",
          "name": "stdout",
          "text": [
            "Original list: [1, 2, 3, 4, 5]\n",
            "The last 2 elements: [4, 5]\n"
          ]
        }
      ]
    },
    {
      "cell_type": "code",
      "source": [
        "def reverse_skip(lst):\n",
        "    \"\"\"\n",
        "    Extracts every second element starting from the second-to-last element and moving backward.\n",
        "\n",
        "    Parameters:\n",
        "    lst (list): The original list from which elements are extracted.\n",
        "\n",
        "    Returns:\n",
        "    list: A list containing every second element starting from the second-to-last element.\n",
        "    \"\"\"\n",
        "    return lst[-2::-2]  # Start from second-to-last element, moving backward, skipping one element in between\n",
        "\n",
        "# Example usage:\n",
        "input_list = [1, 2, 3, 4, 5, 6]\n",
        "result = reverse_skip(input_list)\n",
        "print(f\"Original list: {input_list}\")\n",
        "print(f\"Reversed and skipped list: {result}\")\n"
      ],
      "metadata": {
        "colab": {
          "base_uri": "https://localhost:8080/"
        },
        "id": "xyO4OY8PJWVt",
        "outputId": "863bd4f9-b7f3-4860-f6e3-313c60b92992"
      },
      "execution_count": null,
      "outputs": [
        {
          "output_type": "stream",
          "name": "stdout",
          "text": [
            "Original list: [1, 2, 3, 4, 5, 6]\n",
            "Reversed and skipped list: [5, 3, 1]\n"
          ]
        }
      ]
    },
    {
      "cell_type": "markdown",
      "source": [
        "Task 4.3"
      ],
      "metadata": {
        "id": "brmb1dEDJrgK"
      }
    },
    {
      "cell_type": "code",
      "source": [
        "def flatten(lst):\n",
        "    \"\"\"\n",
        "    Flattens a nested list into a single list where all elements are in one dimension.\n",
        "\n",
        "    Parameters:\n",
        "    lst (list): The nested list to be flattened.\n",
        "\n",
        "    Returns:\n",
        "    list: A flattened list with all elements in a single dimension.\n",
        "    \"\"\"\n",
        "    flattened_list = []\n",
        "    for sublist in lst:\n",
        "        if isinstance(sublist, list):  # Check if the element is a list\n",
        "            flattened_list.extend(sublist)  # Add all elements from the sublist\n",
        "        else:\n",
        "            flattened_list.append(sublist)  # Add the element if it's not a list\n",
        "    return flattened_list\n",
        "\n",
        "# Example usage:\n",
        "input_list = [[1, 2], [3, 4], [5]]\n",
        "result = flatten(input_list)\n",
        "print(f\"Original nested list: {input_list}\")\n",
        "print(f\"Flattened list: {result}\")\n"
      ],
      "metadata": {
        "colab": {
          "base_uri": "https://localhost:8080/"
        },
        "id": "GDsOvKMZJicv",
        "outputId": "1c0955bb-af2f-46ad-cdf8-204891ce5b55"
      },
      "execution_count": null,
      "outputs": [
        {
          "output_type": "stream",
          "name": "stdout",
          "text": [
            "Original nested list: [[1, 2], [3, 4], [5]]\n",
            "Flattened list: [1, 2, 3, 4, 5]\n"
          ]
        }
      ]
    },
    {
      "cell_type": "code",
      "source": [
        "def access_nested_element(lst, indices):\n",
        "    \"\"\"\n",
        "    Extracts an element from a nested list given a list of indices.\n",
        "\n",
        "    Parameters:\n",
        "    lst (list): The nested list from which the element is to be extracted.\n",
        "    indices (list): A list of indices specifying the path to the element.\n",
        "\n",
        "    Returns:\n",
        "    The element at the specified position in the nested list.\n",
        "    \"\"\"\n",
        "    element = lst\n",
        "    for index in indices:\n",
        "        element = element[index]  # Move to the next level using the index\n",
        "    return element\n",
        "\n",
        "# Example usage:\n",
        "lst = [[1, 2, 3], [4, 5, 6], [7, 8, 9]]\n",
        "indices = [1, 2]  # This should access the element 6 (second row, third column)\n",
        "result = access_nested_element(lst, indices)\n",
        "print(f\"Element at indices {indices}: {result}\")\n"
      ],
      "metadata": {
        "colab": {
          "base_uri": "https://localhost:8080/"
        },
        "id": "cni7uMG0JuFf",
        "outputId": "e1c45b0e-7aaf-4585-a3cb-64df0f8f2ade"
      },
      "execution_count": null,
      "outputs": [
        {
          "output_type": "stream",
          "name": "stdout",
          "text": [
            "Element at indices [1, 2]: 6\n"
          ]
        }
      ]
    },
    {
      "cell_type": "code",
      "source": [
        "def sum_nested(lst):\n",
        "    \"\"\"\n",
        "    Calculates the sum of all numbers in a nested list, regardless of depth.\n",
        "\n",
        "    Parameters:\n",
        "    lst (list): The nested list whose elements are to be summed.\n",
        "\n",
        "    Returns:\n",
        "    int: The sum of all the numbers in the nested list.\n",
        "    \"\"\"\n",
        "    total = 0\n",
        "    for item in lst:\n",
        "        if isinstance(item, list):  # If the item is a list, recurse into it\n",
        "            total += sum_nested(item)\n",
        "        else:\n",
        "            total += item  # Otherwise, add the number directly\n",
        "    return total\n",
        "\n",
        "# Example usage:\n",
        "nested_list = [[1, 2], [3, [4, 5]], 6]\n",
        "result = sum_nested(nested_list)\n",
        "print(f\"Sum of all elements in the nested list: {result}\")\n"
      ],
      "metadata": {
        "colab": {
          "base_uri": "https://localhost:8080/"
        },
        "id": "oQ9bEKi9J3aD",
        "outputId": "dceccf5f-68ab-42bc-a1a7-6f6c5a5f7615"
      },
      "execution_count": null,
      "outputs": [
        {
          "output_type": "stream",
          "name": "stdout",
          "text": [
            "Sum of all elements in the nested list: 21\n"
          ]
        }
      ]
    },
    {
      "cell_type": "code",
      "source": [
        "def remove_element(lst, elem):\n",
        "    \"\"\"\n",
        "    Removes all occurrences of a specific element from a nested list.\n",
        "\n",
        "    Parameters:\n",
        "    lst (list): The nested list from which the element will be removed.\n",
        "    elem: The element to be removed from the list.\n",
        "\n",
        "    Returns:\n",
        "    list: The modified list with all occurrences of the element removed.\n",
        "    \"\"\"\n",
        "    # Iterate over the list and process sublists\n",
        "    for i in range(len(lst)):\n",
        "        if isinstance(lst[i], list):  # If it's a sublist, call the function recursively\n",
        "            lst[i] = remove_element(lst[i], elem)\n",
        "        else:\n",
        "            if lst[i] == elem:  # If the element equals the target, remove it\n",
        "                lst.pop(i)  # Remove the element and update the index\n",
        "                return remove_element(lst, elem)  # Recursively call to handle further occurrences\n",
        "    return lst\n",
        "\n",
        "# Example usage:\n",
        "lst = [[1, 2], [3, 2], [4, 5]]\n",
        "elem = 2\n",
        "result = remove_element(lst, elem)\n",
        "print(f\"Modified list after removing {elem}: {result}\")\n"
      ],
      "metadata": {
        "colab": {
          "base_uri": "https://localhost:8080/"
        },
        "id": "8Lx_vO6-KAQJ",
        "outputId": "1399a867-a5eb-4a63-a569-8bc5098a5dea"
      },
      "execution_count": null,
      "outputs": [
        {
          "output_type": "stream",
          "name": "stdout",
          "text": [
            "Modified list after removing 2: [[1], [3], [4, 5]]\n"
          ]
        }
      ]
    },
    {
      "cell_type": "code",
      "source": [
        "def find_max(lst):\n",
        "    \"\"\"\n",
        "    Finds the maximum element in a nested list, regardless of depth.\n",
        "\n",
        "    Parameters:\n",
        "    lst (list): The nested list from which to find the maximum element.\n",
        "\n",
        "    Returns:\n",
        "    int or float: The maximum element in the list.\n",
        "    \"\"\"\n",
        "    max_value = float('-inf')  # Start with the smallest possible value\n",
        "\n",
        "    for item in lst:\n",
        "        if isinstance(item, list):  # If it's a sublist, recurse into it\n",
        "            max_value = max(max_value, find_max(item))\n",
        "        else:\n",
        "            max_value = max(max_value, item)  # Compare with the current max_value\n",
        "\n",
        "    return max_value\n",
        "\n",
        "# Example usage:\n",
        "nested_list = [[1, 2], [3, [4, 5]], 6]\n",
        "result = find_max(nested_list)\n",
        "print(f\"The maximum element in the nested list is: {result}\")\n"
      ],
      "metadata": {
        "colab": {
          "base_uri": "https://localhost:8080/"
        },
        "id": "ZW-qMnjrKP27",
        "outputId": "6758b20c-c2cd-4917-81d3-c0c2b122a1ad"
      },
      "execution_count": null,
      "outputs": [
        {
          "output_type": "stream",
          "name": "stdout",
          "text": [
            "The maximum element in the nested list is: 6\n"
          ]
        }
      ]
    },
    {
      "cell_type": "code",
      "source": [
        "def count_occurrences(lst, elem):\n",
        "    \"\"\"\n",
        "    Counts how many times a specific element appears in a nested list.\n",
        "\n",
        "    Parameters:\n",
        "    lst (list): The nested list in which to count occurrences of elem.\n",
        "    elem: The element whose occurrences are to be counted.\n",
        "\n",
        "    Returns:\n",
        "    int: The number of times elem appears in the nested list.\n",
        "    \"\"\"\n",
        "    count = 0  # Initialize a counter\n",
        "\n",
        "    for item in lst:\n",
        "        if isinstance(item, list):  # If the item is a sublist, recurse into it\n",
        "            count += count_occurrences(item, elem)\n",
        "        else:\n",
        "            if item == elem:  # If the item matches elem, increment the count\n",
        "                count += 1\n",
        "\n",
        "    return count\n",
        "\n",
        "# Example usage:\n",
        "lst = [[1, 2], [2, 3], [2, 4]]\n",
        "elem = 2\n",
        "result = count_occurrences(lst, elem)\n",
        "print(f\"The element {elem} appears {result} times in the nested list.\")\n"
      ],
      "metadata": {
        "colab": {
          "base_uri": "https://localhost:8080/"
        },
        "id": "Jnw3YrbXKYMo",
        "outputId": "e59b41ec-aaa2-431f-92d8-f51a51127338"
      },
      "execution_count": null,
      "outputs": [
        {
          "output_type": "stream",
          "name": "stdout",
          "text": [
            "The element 2 appears 3 times in the nested list.\n"
          ]
        }
      ]
    },
    {
      "cell_type": "code",
      "source": [
        "def deep_flatten(lst):\n",
        "    \"\"\"\n",
        "    Flattens a deeply nested list into a single list, regardless of depth.\n",
        "\n",
        "    Parameters:\n",
        "    lst (list): The deeply nested list to be flattened.\n",
        "\n",
        "    Returns:\n",
        "    list: A flattened version of the list.\n",
        "    \"\"\"\n",
        "    flattened = []  # Initialize an empty list to store the flattened elements\n",
        "\n",
        "    for item in lst:\n",
        "        if isinstance(item, list):  # If the item is a list, recursively flatten it\n",
        "            flattened.extend(deep_flatten(item))\n",
        "        else:\n",
        "            flattened.append(item)  # If the item is not a list, add it to the flattened list\n",
        "\n",
        "    return flattened\n",
        "\n",
        "# Example usage:\n",
        "nested_list = [[[1, 2], [3, 4]], [[5, 6], [7, 8]]]\n",
        "result = deep_flatten(nested_list)\n",
        "print(f\"Flattened list: {result}\")\n"
      ],
      "metadata": {
        "colab": {
          "base_uri": "https://localhost:8080/"
        },
        "id": "XYm04j_QKhiR",
        "outputId": "100eb027-27e9-43e6-9b06-af6119be9d23"
      },
      "execution_count": null,
      "outputs": [
        {
          "output_type": "stream",
          "name": "stdout",
          "text": [
            "Flattened list: [1, 2, 3, 4, 5, 6, 7, 8]\n"
          ]
        }
      ]
    },
    {
      "cell_type": "code",
      "source": [
        "def average_nested(lst):\n",
        "    \"\"\"\n",
        "    Calculates the average of all elements in a nested list.\n",
        "\n",
        "    Parameters:\n",
        "    lst (list): The nested list whose elements' average is to be calculated.\n",
        "\n",
        "    Returns:\n",
        "    float: The average of all elements in the nested list.\n",
        "    \"\"\"\n",
        "    total = 0\n",
        "    count = 0\n",
        "\n",
        "    # Helper function to iterate through the nested list\n",
        "    def flatten_and_count(sub_lst):\n",
        "        nonlocal total, count\n",
        "        for item in sub_lst:\n",
        "            if isinstance(item, list):\n",
        "                flatten_and_count(item)  # Recurse if item is a sublist\n",
        "            else:\n",
        "                total += item\n",
        "                count += 1\n",
        "\n",
        "    flatten_and_count(lst)\n",
        "\n",
        "    # Calculate and return the average\n",
        "    if count == 0:  # Prevent division by zero\n",
        "        return 0\n",
        "    return total / count\n",
        "\n",
        "# Example usage:\n",
        "nested_list = [[1, 2], [3, 4], [5, 6]]\n",
        "result = average_nested(nested_list)\n",
        "print(f\"The average of all elements in the nested list is: {result}\")\n"
      ],
      "metadata": {
        "colab": {
          "base_uri": "https://localhost:8080/"
        },
        "id": "Y7zmbosnKxds",
        "outputId": "42abe415-969a-4fb6-c11a-0a9009add72b"
      },
      "execution_count": null,
      "outputs": [
        {
          "output_type": "stream",
          "name": "stdout",
          "text": [
            "The average of all elements in the nested list is: 3.5\n"
          ]
        }
      ]
    },
    {
      "cell_type": "code",
      "source": [
        "import numpy as np\n",
        "# initialize an all zero array with size 2 X 3:\n",
        "zeros_arr = np.zeros((2,3))\n",
        "print(\" A zeros array is \\n\", zeros_arr, \"with dimensions\", zeros_arr.shape, \"\\n\")"
      ],
      "metadata": {
        "colab": {
          "base_uri": "https://localhost:8080/"
        },
        "id": "4QhW40EZK5JD",
        "outputId": "02159a57-73ec-4351-d85c-c9208b1256a7"
      },
      "execution_count": null,
      "outputs": [
        {
          "output_type": "stream",
          "name": "stdout",
          "text": [
            " A zeros array is \n",
            " [[0. 0. 0.]\n",
            " [0. 0. 0.]] with dimensions (2, 3) \n",
            "\n"
          ]
        }
      ]
    },
    {
      "cell_type": "markdown",
      "source": [
        "Task 10 problems"
      ],
      "metadata": {
        "id": "_flR94trLaVU"
      }
    },
    {
      "cell_type": "code",
      "source": [
        "import numpy as np\n",
        "\n",
        "# Task 1: Initialize an empty array with size 2x2\n",
        "empty_array = np.empty((2, 2))\n",
        "print(\"Empty array (2x2):\")\n",
        "print(empty_array)\n",
        "\n",
        "# Task 2: Initialize an all-one array with size 4x2\n",
        "ones_array = np.ones((4, 2))\n",
        "print(\"\\nAll ones array (4x2):\")\n",
        "print(ones_array)\n",
        "\n",
        "# Task 3: Return a new array of given shape and type, filled with a fill value (e.g., fill_value = 7)\n",
        "fill_value_array = np.full((3, 3), 7)  # Example with shape 3x3 and fill value 7\n",
        "print(\"\\nArray filled with value 7 (3x3):\")\n",
        "print(fill_value_array)\n",
        "\n",
        "# Task 4: Return a new array of zeros with the same shape and type as a given array\n",
        "existing_array = np.array([[1, 2], [3, 4]])  # Example existing array\n",
        "zeros_like_array = np.zeros_like(existing_array)\n",
        "print(\"\\nArray of zeros like the existing array:\")\n",
        "print(zeros_like_array)\n",
        "\n",
        "# Task 5: Return a new array of ones with the same shape and type as a given array\n",
        "ones_like_array = np.ones_like(existing_array)\n",
        "print(\"\\nArray of ones like the existing array:\")\n",
        "print(ones_like_array)\n",
        "\n",
        "# Task 6: Convert an existing list to a numpy array\n",
        "new_list = [1, 2, 3, 4]\n",
        "numpy_array_from_list = np.array(new_list)\n",
        "print(\"\\nNumPy array from existing list:\")\n",
        "print(numpy_array_from_list)\n"
      ],
      "metadata": {
        "colab": {
          "base_uri": "https://localhost:8080/"
        },
        "id": "5dz23t4kLBwi",
        "outputId": "8ab6e757-1147-4993-a95b-7853bb3dd2d0"
      },
      "execution_count": null,
      "outputs": [
        {
          "output_type": "stream",
          "name": "stdout",
          "text": [
            "Empty array (2x2):\n",
            "[[1.64981454e-316 0.00000000e+000]\n",
            " [5.33196831e-317 5.33196831e-317]]\n",
            "\n",
            "All ones array (4x2):\n",
            "[[1. 1.]\n",
            " [1. 1.]\n",
            " [1. 1.]\n",
            " [1. 1.]]\n",
            "\n",
            "Array filled with value 7 (3x3):\n",
            "[[7 7 7]\n",
            " [7 7 7]\n",
            " [7 7 7]]\n",
            "\n",
            "Array of zeros like the existing array:\n",
            "[[0 0]\n",
            " [0 0]]\n",
            "\n",
            "Array of ones like the existing array:\n",
            "[[1 1]\n",
            " [1 1]]\n",
            "\n",
            "NumPy array from existing list:\n",
            "[1 2 3 4]\n"
          ]
        }
      ]
    },
    {
      "cell_type": "code",
      "source": [
        "import numpy as np\n",
        "\n",
        "# Task 1: Create an array with values ranging from 10 to 49.\n",
        "arr1 = np.arange(10, 50)\n",
        "print(\"Array with values ranging from 10 to 49:\")\n",
        "print(arr1)\n",
        "\n",
        "# Task 2: Create a 3X3 matrix with values ranging from 0 to 8.\n",
        "arr2 = np.arange(9).reshape(3, 3)\n",
        "print(\"\\n3X3 matrix with values ranging from 0 to 8:\")\n",
        "print(arr2)\n",
        "\n",
        "# Task 3: Create a 3X3 identity matrix.\n",
        "identity_matrix = np.eye(3)\n",
        "print(\"\\n3X3 identity matrix:\")\n",
        "print(identity_matrix)\n",
        "\n",
        "# Task 4: Create a random array of size 30 and find the mean of the array.\n",
        "random_array = np.random.random(30)\n",
        "mean_value = random_array.mean()\n",
        "print(\"\\nRandom array of size 30 and its mean:\")\n",
        "print(random_array)\n",
        "print(f\"Mean of the array: {mean_value}\")\n",
        "\n",
        "# Task 5: Create a 10X10 array with random values and find the minimum and maximum values.\n",
        "random_10x10_array = np.random.random((10, 10))\n",
        "min_value = random_10x10_array.min()\n",
        "max_value = random_10x10_array.max()\n",
        "print(\"\\n10X10 random array and its min and max values:\")\n",
        "print(random_10x10_array)\n",
        "print(f\"Min value: {min_value}\")\n",
        "print(f\"Max value: {max_value}\")\n",
        "\n",
        "# Task 6: Create a zero array of size 10 and replace 5th element with 1.\n",
        "arr6 = np.zeros(10)\n",
        "arr6[4] = 1  # 5th element is at index 4\n",
        "print(\"\\nZero array with 5th element replaced by 1:\")\n",
        "print(arr6)\n",
        "\n",
        "# Task 7: Reverse an array arr = [1, 2, 0, 0, 4, 0].\n",
        "arr7 = np.array([1, 2, 0, 0, 4, 0])\n",
        "reversed_arr = arr7[::-1]\n",
        "print(\"\\nReversed array:\")\n",
        "print(reversed_arr)\n",
        "\n",
        "# Task 8: Create a 2D array with 1 on the border and 0 inside.\n",
        "arr8 = np.ones((5, 5))\n",
        "arr8[1:-1, 1:-1] = 0\n",
        "print(\"\\n2D array with 1 on border and 0 inside:\")\n",
        "print(arr8)\n",
        "\n",
        "# Task 9: Create an 8X8 matrix and fill it with a checkerboard pattern.\n",
        "checkerboard = np.zeros((8, 8), dtype=int)\n",
        "checkerboard[1::2, ::2] = 1\n",
        "checkerboard[::2, 1::2] = 1\n",
        "print(\"\\n8X8 matrix filled with a checkerboard pattern:\")\n",
        "print(checkerboard)\n"
      ],
      "metadata": {
        "colab": {
          "base_uri": "https://localhost:8080/"
        },
        "id": "6aHlzxxALd8Z",
        "outputId": "e709f3b6-36e7-495d-b100-e1819d1fb779"
      },
      "execution_count": null,
      "outputs": [
        {
          "output_type": "stream",
          "name": "stdout",
          "text": [
            "Array with values ranging from 10 to 49:\n",
            "[10 11 12 13 14 15 16 17 18 19 20 21 22 23 24 25 26 27 28 29 30 31 32 33\n",
            " 34 35 36 37 38 39 40 41 42 43 44 45 46 47 48 49]\n",
            "\n",
            "3X3 matrix with values ranging from 0 to 8:\n",
            "[[0 1 2]\n",
            " [3 4 5]\n",
            " [6 7 8]]\n",
            "\n",
            "3X3 identity matrix:\n",
            "[[1. 0. 0.]\n",
            " [0. 1. 0.]\n",
            " [0. 0. 1.]]\n",
            "\n",
            "Random array of size 30 and its mean:\n",
            "[0.88354471 0.95111703 0.90087521 0.66652406 0.60859809 0.02870414\n",
            " 0.96934206 0.98702074 0.1882869  0.85474589 0.08930207 0.7521972\n",
            " 0.91640405 0.24795393 0.71263274 0.51218905 0.31175165 0.0955149\n",
            " 0.15508841 0.92200359 0.54293529 0.17105811 0.12263019 0.89447868\n",
            " 0.5314487  0.87986028 0.61760683 0.98220137 0.22339578 0.09328544]\n",
            "Mean of the array: 0.5604232363736024\n",
            "\n",
            "10X10 random array and its min and max values:\n",
            "[[0.6917981  0.22890654 0.93197065 0.75061406 0.72102809 0.76708275\n",
            "  0.97684716 0.75015559 0.84190594 0.62739853]\n",
            " [0.78756529 0.32135288 0.38828595 0.9572739  0.30282288 0.06623474\n",
            "  0.75416866 0.9235336  0.74327319 0.81068839]\n",
            " [0.14745639 0.99555263 0.14832463 0.48570925 0.42296447 0.13464762\n",
            "  0.47403621 0.8139911  0.07524846 0.31723422]\n",
            " [0.17026234 0.50557013 0.51948772 0.345539   0.25247616 0.71506334\n",
            "  0.86234097 0.48719801 0.70498741 0.01728666]\n",
            " [0.81282349 0.19544337 0.15225636 0.81200798 0.80715834 0.38360365\n",
            "  0.76151319 0.48397758 0.86235494 0.65331769]\n",
            " [0.26382737 0.3865358  0.1253209  0.24424441 0.60022591 0.44485979\n",
            "  0.53478256 0.92685422 0.28910885 0.31692851]\n",
            " [0.65567959 0.52466968 0.79451798 0.04933986 0.0554931  0.07100985\n",
            "  0.39418949 0.98126248 0.72132943 0.49334865]\n",
            " [0.79186143 0.46981824 0.91480133 0.42283131 0.94494493 0.41183316\n",
            "  0.97611031 0.48933384 0.82800045 0.05843536]\n",
            " [0.2210225  0.77158712 0.65864516 0.30538825 0.99100393 0.03790581\n",
            "  0.46425054 0.16198278 0.20035718 0.68493715]\n",
            " [0.14261032 0.61930739 0.72376596 0.75277498 0.69574817 0.56626792\n",
            "  0.03616285 0.0269738  0.42287043 0.78550772]]\n",
            "Min value: 0.017286659376541835\n",
            "Max value: 0.995552629284395\n",
            "\n",
            "Zero array with 5th element replaced by 1:\n",
            "[0. 0. 0. 0. 1. 0. 0. 0. 0. 0.]\n",
            "\n",
            "Reversed array:\n",
            "[0 4 0 0 2 1]\n",
            "\n",
            "2D array with 1 on border and 0 inside:\n",
            "[[1. 1. 1. 1. 1.]\n",
            " [1. 0. 0. 0. 1.]\n",
            " [1. 0. 0. 0. 1.]\n",
            " [1. 0. 0. 0. 1.]\n",
            " [1. 1. 1. 1. 1.]]\n",
            "\n",
            "8X8 matrix filled with a checkerboard pattern:\n",
            "[[0 1 0 1 0 1 0 1]\n",
            " [1 0 1 0 1 0 1 0]\n",
            " [0 1 0 1 0 1 0 1]\n",
            " [1 0 1 0 1 0 1 0]\n",
            " [0 1 0 1 0 1 0 1]\n",
            " [1 0 1 0 1 0 1 0]\n",
            " [0 1 0 1 0 1 0 1]\n",
            " [1 0 1 0 1 0 1 0]]\n"
          ]
        }
      ]
    },
    {
      "cell_type": "code",
      "source": [
        "import numpy as np\n",
        "\n",
        "# Arrays given:\n",
        "x = np.array([[1, 2], [3, 5]])\n",
        "y = np.array([[5, 6], [7, 8]])\n",
        "v = np.array([9, 10])\n",
        "w = np.array([11, 12])\n",
        "\n",
        "# Task 1: Add the two arrays\n",
        "add_result = x + y\n",
        "print(\"1. Addition of x and y:\")\n",
        "print(add_result)\n",
        "\n",
        "# Task 2: Subtract the two arrays\n",
        "subtract_result = x - y\n",
        "print(\"\\n2. Subtraction of x and y:\")\n",
        "print(subtract_result)\n",
        "\n",
        "# Task 3: Multiply the array with any integers of your choice (let's use 2)\n",
        "multiply_result = x * 2\n",
        "print(\"\\n3. Multiplying x by 2:\")\n",
        "print(multiply_result)\n",
        "\n",
        "# Task 4: Find the square of each element of the array\n",
        "square_result = np.square(x)\n",
        "print(\"\\n4. Square of each element of x:\")\n",
        "print(square_result)\n",
        "\n",
        "# Task 5: Find the dot product between v and w; x and v; x and y\n",
        "dot_product_vw = np.dot(v, w)\n",
        "dot_product_xv = np.dot(x, v)\n",
        "dot_product_xy = np.dot(x, y)\n",
        "\n",
        "print(\"\\n5. Dot product between v and w:\", dot_product_vw)\n",
        "print(\"Dot product between x and v:\")\n",
        "print(dot_product_xv)\n",
        "print(\"Dot product between x and y:\")\n",
        "print(dot_product_xy)\n",
        "\n",
        "# Task 6: Concatenate x and y along row and v and w along column\n",
        "concat_xy_row = np.concatenate((x, y), axis=0)\n",
        "concat_vw_column = np.concatenate((v.reshape(-1, 1), w.reshape(-1, 1)), axis=1)\n",
        "\n",
        "print(\"\\n6. Concatenate x and y along rows:\")\n",
        "print(concat_xy_row)\n",
        "print(\"Concatenate v and w along columns:\")\n",
        "print(concat_vw_column)\n",
        "\n",
        "# Task 7: Concatenate x and v; if you get an error, observe and explain why\n",
        "try:\n",
        "    concat_xv = np.concatenate((x, v), axis=0)\n",
        "    print(\"\\n7. Concatenate x and v along rows:\")\n",
        "    print(concat_xv)\n",
        "except Exception as e:\n",
        "    print(\"\\n7. Error when concatenating x and v along rows:\")\n",
        "    print(e)\n"
      ],
      "metadata": {
        "colab": {
          "base_uri": "https://localhost:8080/"
        },
        "id": "xj214I8VLvwe",
        "outputId": "6ad87412-9afd-4a33-d69d-a65505f791f3"
      },
      "execution_count": null,
      "outputs": [
        {
          "output_type": "stream",
          "name": "stdout",
          "text": [
            "1. Addition of x and y:\n",
            "[[ 6  8]\n",
            " [10 13]]\n",
            "\n",
            "2. Subtraction of x and y:\n",
            "[[-4 -4]\n",
            " [-4 -3]]\n",
            "\n",
            "3. Multiplying x by 2:\n",
            "[[ 2  4]\n",
            " [ 6 10]]\n",
            "\n",
            "4. Square of each element of x:\n",
            "[[ 1  4]\n",
            " [ 9 25]]\n",
            "\n",
            "5. Dot product between v and w: 219\n",
            "Dot product between x and v:\n",
            "[29 77]\n",
            "Dot product between x and y:\n",
            "[[19 22]\n",
            " [50 58]]\n",
            "\n",
            "6. Concatenate x and y along rows:\n",
            "[[1 2]\n",
            " [3 5]\n",
            " [5 6]\n",
            " [7 8]]\n",
            "Concatenate v and w along columns:\n",
            "[[ 9 11]\n",
            " [10 12]]\n",
            "\n",
            "7. Error when concatenating x and v along rows:\n",
            "all the input arrays must have same number of dimensions, but the array at index 0 has 2 dimension(s) and the array at index 1 has 1 dimension(s)\n"
          ]
        }
      ]
    },
    {
      "cell_type": "code",
      "source": [
        "import numpy as np\n",
        "\n",
        "# Given matrices:\n",
        "A = np.array([[3, 4], [7, 8]])\n",
        "B = np.array([[5, 3], [2, 1]])\n",
        "\n",
        "# 1. Prove A * A^-1 = I (Identity matrix)\n",
        "A_inv = np.linalg.inv(A)  # Calculate the inverse of A\n",
        "I = np.dot(A, A_inv)  # Multiply A with its inverse to get the identity matrix\n",
        "print(\"1. Prove A * A^-1 = I:\")\n",
        "print(I)\n",
        "\n",
        "# 2. Prove AB != BA (Matrix multiplication is not commutative)\n",
        "AB = np.dot(A, B)  # AB\n",
        "BA = np.dot(B, A)  # BA\n",
        "print(\"\\n2. Prove AB != BA:\")\n",
        "print(\"AB:\")\n",
        "print(AB)\n",
        "print(\"BA:\")\n",
        "print(BA)\n",
        "\n",
        "# Check if AB is equal to BA\n",
        "if np.array_equal(AB, BA):\n",
        "    print(\"AB is equal to BA\")\n",
        "else:\n",
        "    print(\"AB is not equal to BA\")\n",
        "\n",
        "# 3. Prove (AB)^T = B^T * A^T (Transpose property)\n",
        "AB_T = np.transpose(AB)  # (AB)^T\n",
        "B_T_A_T = np.dot(np.transpose(B), np.transpose(A))  # B^T * A^T\n",
        "print(\"\\n3. Prove (AB)^T = B^T * A^T:\")\n",
        "print(\"Transpose of AB:\")\n",
        "print(AB_T)\n",
        "print(\"B^T * A^T:\")\n",
        "print(B_T_A_T)\n",
        "\n",
        "\n",
        "# Represent the system as AX = B\n",
        "# A is the coefficient matrix, X is the variables [x, y, z], and B is the constant matrix.\n",
        "A_eq = np.array([[2, -3, 1], [1, -1, 2], [3, 1, -1]])  # Coefficients of the system\n",
        "B_eq = np.array([-1, -3, 9])  # Constants on the right-hand side of the equations\n",
        "\n",
        "# Solve for X (the solution vector [x, y, z])\n",
        "X = np.linalg.solve(A_eq, B_eq)\n",
        "print(\"\\nSolution to the system of linear equations (using np.linalg.solve):\")\n",
        "print(f\"x = {X[0]}, y = {X[1]}, z = {X[2]}\")\n",
        "\n",
        "# Alternatively, use the inverse method to solve AX = B\n",
        "A_inv_eq = np.linalg.inv(A_eq)  # Inverse of A_eq\n",
        "X_inv_method = np.dot(A_inv_eq, B_eq)  # X = A_inv * B\n",
        "print(\"\\nSolution to the system of linear equations (using inverse method):\")\n",
        "print(f\"x = {X_inv_method[0]}, y = {X_inv_method[1]}, z = {X_inv_method[2]}\")\n"
      ],
      "metadata": {
        "colab": {
          "base_uri": "https://localhost:8080/"
        },
        "id": "HuNl5vv2L4cD",
        "outputId": "512fd2d6-51e1-421a-af08-683fc6c0a723"
      },
      "execution_count": null,
      "outputs": [
        {
          "output_type": "stream",
          "name": "stdout",
          "text": [
            "1. Prove A * A^-1 = I:\n",
            "[[1.00000000e+00 0.00000000e+00]\n",
            " [1.77635684e-15 1.00000000e+00]]\n",
            "\n",
            "2. Prove AB != BA:\n",
            "AB:\n",
            "[[23 13]\n",
            " [51 29]]\n",
            "BA:\n",
            "[[36 44]\n",
            " [13 16]]\n",
            "AB is not equal to BA\n",
            "\n",
            "3. Prove (AB)^T = B^T * A^T:\n",
            "Transpose of AB:\n",
            "[[23 51]\n",
            " [13 29]]\n",
            "B^T * A^T:\n",
            "[[23 51]\n",
            " [13 29]]\n",
            "\n",
            "Solution to the system of linear equations (using np.linalg.solve):\n",
            "x = 2.0, y = 1.0000000000000002, z = -2.0\n",
            "\n",
            "Solution to the system of linear equations (using inverse method):\n",
            "x = 2.0, y = 1.0, z = -2.0\n"
          ]
        }
      ]
    },
    {
      "cell_type": "markdown",
      "source": [
        "task10.2"
      ],
      "metadata": {
        "id": "Ile1dL0eMICp"
      }
    },
    {
      "cell_type": "code",
      "source": [
        "import time\n",
        "\n",
        "# Create two lists of size 1,000,000\n",
        "list1 = [i for i in range(1000000)]\n",
        "list2 = [i for i in range(1000000, 2000000)]\n",
        "\n",
        "# Measure the time taken for element-wise addition of two lists\n",
        "start_time = time.time()\n",
        "\n",
        "# Element-wise addition using list comprehension\n",
        "result_list = [list1[i] + list2[i] for i in range(1000000)]\n",
        "\n",
        "end_time = time.time()\n",
        "print(f\"Time taken for element-wise addition using Python lists: {end_time - start_time} seconds\")\n"
      ],
      "metadata": {
        "colab": {
          "base_uri": "https://localhost:8080/"
        },
        "id": "4WL3_lpZM0ae",
        "outputId": "1202fd99-45bd-4512-94d6-2735b34be0f0"
      },
      "execution_count": null,
      "outputs": [
        {
          "output_type": "stream",
          "name": "stdout",
          "text": [
            "Time taken for element-wise addition using Python lists: 0.25238466262817383 seconds\n"
          ]
        }
      ]
    },
    {
      "cell_type": "code",
      "source": [
        "import numpy as np\n",
        "\n",
        "# Create two NumPy arrays of size 1,000,000\n",
        "array1 = np.arange(1000000)\n",
        "array2 = np.arange(1000000, 2000000)\n",
        "\n",
        "# Measure the time taken for element-wise addition of two NumPy arrays\n",
        "start_time = time.time()\n",
        "\n",
        "# Element-wise addition using NumPy\n",
        "result_array = array1 + array2\n",
        "\n",
        "end_time = time.time()\n",
        "print(f\"Time taken for element-wise addition using NumPy arrays: {end_time - start_time} seconds\")\n"
      ],
      "metadata": {
        "colab": {
          "base_uri": "https://localhost:8080/"
        },
        "id": "KuSB1GbYM2JB",
        "outputId": "c5daf0ae-45cb-440e-b65f-873e0f67ebb2"
      },
      "execution_count": null,
      "outputs": [
        {
          "output_type": "stream",
          "name": "stdout",
          "text": [
            "Time taken for element-wise addition using NumPy arrays: 0.007414579391479492 seconds\n"
          ]
        }
      ]
    },
    {
      "cell_type": "code",
      "source": [
        "import time\n",
        "\n",
        "# Create two lists of size 1,000,000\n",
        "list1 = [i for i in range(1000000)]\n",
        "list2 = [i for i in range(1000000, 2000000)]\n",
        "\n",
        "# Measure the time taken for element-wise multiplication of two lists\n",
        "start_time = time.time()\n",
        "\n",
        "# Element-wise multiplication using list comprehension\n",
        "result_list = [list1[i] * list2[i] for i in range(1000000)]\n",
        "\n",
        "end_time = time.time()\n",
        "print(f\"Time taken for element-wise multiplication using Python lists: {end_time - start_time} seconds\")\n"
      ],
      "metadata": {
        "colab": {
          "base_uri": "https://localhost:8080/"
        },
        "id": "6Pr4nRhDM7Lp",
        "outputId": "c7d8580c-b3a5-4a04-8a0f-670bc5344855"
      },
      "execution_count": null,
      "outputs": [
        {
          "output_type": "stream",
          "name": "stdout",
          "text": [
            "Time taken for element-wise multiplication using Python lists: 0.15629816055297852 seconds\n"
          ]
        }
      ]
    },
    {
      "cell_type": "code",
      "source": [
        "import numpy as np\n",
        "\n",
        "# Create two NumPy arrays of size 1,000,000\n",
        "array1 = np.arange(1000000)\n",
        "array2 = np.arange(1000000, 2000000)\n",
        "\n",
        "# Measure the time taken for element-wise multiplication of two NumPy arrays\n",
        "start_time = time.time()\n",
        "\n",
        "# Element-wise multiplication using NumPy\n",
        "result_array = array1 * array2\n",
        "\n",
        "end_time = time.time()\n",
        "print(f\"Time taken for element-wise multiplication using NumPy arrays: {end_time - start_time} seconds\")\n"
      ],
      "metadata": {
        "colab": {
          "base_uri": "https://localhost:8080/"
        },
        "id": "-qCasRFgNCgW",
        "outputId": "76ae3d86-9dc5-4c6e-be46-1cda917d8239"
      },
      "execution_count": null,
      "outputs": [
        {
          "output_type": "stream",
          "name": "stdout",
          "text": [
            "Time taken for element-wise multiplication using NumPy arrays: 0.004985332489013672 seconds\n"
          ]
        }
      ]
    },
    {
      "cell_type": "code",
      "source": [
        "import time\n",
        "\n",
        "# Create two lists of size 1,000,000\n",
        "list1 = [i for i in range(1000000)]\n",
        "list2 = [i for i in range(1000000, 2000000)]\n",
        "\n",
        "# Measure the time taken for the dot product of two lists\n",
        "start_time = time.time()\n",
        "\n",
        "# Dot product using list comprehension\n",
        "dot_product_list = sum(list1[i] * list2[i] for i in range(1000000))\n",
        "\n",
        "end_time = time.time()\n",
        "print(f\"Time taken for dot product using Python lists: {end_time - start_time} seconds\")\n"
      ],
      "metadata": {
        "colab": {
          "base_uri": "https://localhost:8080/"
        },
        "id": "kIGeHWqiNPiF",
        "outputId": "9a6af603-9f78-4a5b-dbf9-13c0ec7c65f4"
      },
      "execution_count": null,
      "outputs": [
        {
          "output_type": "stream",
          "name": "stdout",
          "text": [
            "Time taken for dot product using Python lists: 0.18314170837402344 seconds\n"
          ]
        }
      ]
    },
    {
      "cell_type": "code",
      "source": [
        "import numpy as np\n",
        "\n",
        "# Create two NumPy arrays of size 1,000,000\n",
        "array1 = np.arange(1000000)\n",
        "array2 = np.arange(1000000, 2000000)\n",
        "\n",
        "# Measure the time taken for the dot product of two NumPy arrays\n",
        "start_time = time.time()\n",
        "\n",
        "# Dot product using NumPy\n",
        "dot_product_array = np.dot(array1, array2)\n",
        "\n",
        "end_time = time.time()\n",
        "print(f\"Time taken for dot product using NumPy arrays: {end_time - start_time} seconds\")\n"
      ],
      "metadata": {
        "colab": {
          "base_uri": "https://localhost:8080/"
        },
        "id": "EeedjKWiNTUx",
        "outputId": "481424b1-97c9-413b-e37a-9ea2a94fc914"
      },
      "execution_count": null,
      "outputs": [
        {
          "output_type": "stream",
          "name": "stdout",
          "text": [
            "Time taken for dot product using NumPy arrays: 0.0021212100982666016 seconds\n"
          ]
        }
      ]
    },
    {
      "cell_type": "code",
      "source": [
        "import numpy as np\n",
        "\n",
        "# Create two 1000x1000 matrices using NumPy\n",
        "matrix1_np = np.random.rand(1000, 1000)\n",
        "matrix2_np = np.random.rand(1000, 1000)\n",
        "\n",
        "# Measure the time taken for matrix multiplication using NumPy arrays\n",
        "start_time = time.time()\n",
        "\n",
        "# Matrix multiplication using NumPy's dot method\n",
        "result_np = np.dot(matrix1_np, matrix2_np)\n",
        "\n",
        "end_time = time.time()\n",
        "print(f\"Time taken for matrix multiplication using NumPy arrays: {end_time - start_time} seconds\")\n"
      ],
      "metadata": {
        "colab": {
          "base_uri": "https://localhost:8080/"
        },
        "id": "Txn-6S1HN-HR",
        "outputId": "e2be9d51-b2de-43f3-97df-e1f253222df8"
      },
      "execution_count": null,
      "outputs": [
        {
          "output_type": "stream",
          "name": "stdout",
          "text": [
            "Time taken for matrix multiplication using NumPy arrays: 0.10885071754455566 seconds\n"
          ]
        }
      ]
    }
  ]
}