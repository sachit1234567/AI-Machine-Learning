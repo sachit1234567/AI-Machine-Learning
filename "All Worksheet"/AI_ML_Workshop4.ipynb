{
  "nbformat": 4,
  "nbformat_minor": 0,
  "metadata": {
    "colab": {
      "provenance": []
    },
    "kernelspec": {
      "name": "python3",
      "display_name": "Python 3"
    },
    "language_info": {
      "name": "python"
    }
  },
  "cells": [
    {
      "cell_type": "markdown",
      "source": [
        "# 6 Exercise: Building a Fully Connected Network (FCN) for Devnagari Digit Classification.\n",
        "## Objective\n",
        "### In this exercise, you will build and train a Fully Connected Network (FCN) to classify Devnagari digits using TensorFlow and Keras. You will manually load and process the dataset using the Python Imaging Library (PIL) and then train the model with three hidden layers."
      ],
      "metadata": {
        "id": "FJeecnICuM-o"
      }
    },
    {
      "cell_type": "markdown",
      "source": [
        "## Task 1: Data Preparation\n",
        "### Loading the Data\n",
        "#### • Download the provided folder that contains the Devnagari digits dataset.\n",
        "#### • Use the Python Imaging Library (PIL) to load and read the image files from the dataset.\n",
        "#### • Convert the images into Numpy arrays and normalize them to a range of 0-1.\n",
        "#### • use train folder for training and test for testing.\n",
        "#### • Extract the corresponding labels for each image.\n",
        "### Hints:\n",
        "#### • Ensure that the images are resized to a consistent shape (e.g., 28x28).\n",
        "#### • Convert labels to one-hot encoded format for multi-class classification."
      ],
      "metadata": {
        "id": "HxLAnGO8uLB3"
      }
    },
    {
      "cell_type": "code",
      "source": [
        "!pip install gdown\n",
        "\n",
        "!gdown 1xsjOC7I9AsIaKUl4eiF8A7aCBsiFaS8T\n",
        "\n",
        "!unzip \"devnagari.zip\""
      ],
      "metadata": {
        "colab": {
          "base_uri": "https://localhost:8080/"
        },
        "id": "FIeauCJc-hEg",
        "outputId": "89d61e28-03b1-4178-b38a-01f004ffa50f",
        "collapsed": true
      },
      "execution_count": null,
      "outputs": [
        {
          "output_type": "stream",
          "name": "stdout",
          "text": [
            "Requirement already satisfied: gdown in /usr/local/lib/python3.11/dist-packages (5.2.0)\n",
            "Requirement already satisfied: beautifulsoup4 in /usr/local/lib/python3.11/dist-packages (from gdown) (4.13.3)\n",
            "Requirement already satisfied: filelock in /usr/local/lib/python3.11/dist-packages (from gdown) (3.18.0)\n",
            "Requirement already satisfied: requests[socks] in /usr/local/lib/python3.11/dist-packages (from gdown) (2.32.3)\n",
            "Requirement already satisfied: tqdm in /usr/local/lib/python3.11/dist-packages (from gdown) (4.67.1)\n",
            "Requirement already satisfied: soupsieve>1.2 in /usr/local/lib/python3.11/dist-packages (from beautifulsoup4->gdown) (2.6)\n",
            "Requirement already satisfied: typing-extensions>=4.0.0 in /usr/local/lib/python3.11/dist-packages (from beautifulsoup4->gdown) (4.12.2)\n",
            "Requirement already satisfied: charset-normalizer<4,>=2 in /usr/local/lib/python3.11/dist-packages (from requests[socks]->gdown) (3.4.1)\n",
            "Requirement already satisfied: idna<4,>=2.5 in /usr/local/lib/python3.11/dist-packages (from requests[socks]->gdown) (3.10)\n",
            "Requirement already satisfied: urllib3<3,>=1.21.1 in /usr/local/lib/python3.11/dist-packages (from requests[socks]->gdown) (2.3.0)\n",
            "Requirement already satisfied: certifi>=2017.4.17 in /usr/local/lib/python3.11/dist-packages (from requests[socks]->gdown) (2025.1.31)\n",
            "Requirement already satisfied: PySocks!=1.5.7,>=1.5.6 in /usr/local/lib/python3.11/dist-packages (from requests[socks]->gdown) (1.7.1)\n",
            "Downloading...\n",
            "From (original): https://drive.google.com/uc?id=1xsjOC7I9AsIaKUl4eiF8A7aCBsiFaS8T\n",
            "From (redirected): https://drive.google.com/uc?id=1xsjOC7I9AsIaKUl4eiF8A7aCBsiFaS8T&confirm=t&uuid=dd53a075-0060-4918-bfea-bb797bfb2bbd\n",
            "To: /content/devnagari.zip\n",
            "100% 16.6M/16.6M [00:00<00:00, 55.3MB/s]\n",
            "Archive:  devnagari.zip\n",
            "replace DevanagariHandwrittenDigitDataset/Test/digit_0/103277.png? [y]es, [n]o, [A]ll, [N]one, [r]ename: "
          ]
        }
      ]
    },
    {
      "cell_type": "code",
      "execution_count": null,
      "metadata": {
        "colab": {
          "base_uri": "https://localhost:8080/"
        },
        "id": "QGM25OYZtl_P",
        "outputId": "ae37b1f5-8758-4166-f9dc-9e6a5fa7d131"
      },
      "outputs": [
        {
          "output_type": "stream",
          "name": "stdout",
          "text": [
            "3.8.0\n"
          ]
        }
      ],
      "source": [
        "import tensorflow as tf\n",
        "print(tf.keras.__version__)\n",
        "from PIL import Image\n",
        "import glob\n",
        "import numpy as np\n",
        "import matplotlib.pyplot as plt\n",
        "import os\n",
        "from tensorflow.keras.utils import to_categorical\n",
        "from tensorflow.keras import layers, models"
      ]
    },
    {
      "cell_type": "code",
      "source": [
        "train_path = \"DevanagariHandwrittenDigitDataset/Train/\"\n",
        "test_path = \"DevanagariHandwrittenDigitDataset/Test/\"\n",
        "\n",
        "# Define image size\n",
        "img_height, img_width = 28, 28\n",
        "# Function to load images and labels using PIL\n",
        "def load_images_from_folder(folder):\n",
        "  images = []\n",
        "  labels = []\n",
        "  class_names = sorted(os.listdir(folder)) # Sorted class names (digit_0, digit_1, ...)\n",
        "  class_map = {name: i for i, name in enumerate(class_names)} # Map class names to labels\n",
        "  for class_name in class_names:\n",
        "    class_path = os.path.join(folder, class_name)\n",
        "    label = class_map[class_name]\n",
        "    for filename in os.listdir(class_path):\n",
        "      img_path = os.path.join(class_path, filename)\n",
        "      # Load image using PIL\n",
        "      img = Image.open(img_path).convert(\"L\") # Convert to grayscale\n",
        "      img = img.resize((img_width, img_height)) # Resize to (28,28)\n",
        "      img = np.array(img) / 255.0 # Normalize pixel values to [0,1]\n",
        "      images.append(img)\n",
        "      labels.append(label)\n",
        "  return np.array(images), np.array(labels)\n",
        "# Load training and testing datasets\n",
        "x_train, y_train = load_images_from_folder(train_path)\n",
        "x_test, y_test = load_images_from_folder(test_path)"
      ],
      "metadata": {
        "id": "j17xFa_EA1-V"
      },
      "execution_count": null,
      "outputs": []
    },
    {
      "cell_type": "code",
      "source": [
        "num_classes = 10\n",
        "\n",
        "# Reshape images for Keras input\n",
        "x_train = x_train.reshape(-1, img_height, img_width, 1) # Shape (num_samples, 28, 28, 1)\n",
        "x_test = x_test.reshape(-1, img_height, img_width, 1)\n",
        "# One-hot encode labels\n",
        "y_train = to_categorical(y_train, num_classes=num_classes)\n",
        "y_test = to_categorical(y_test, num_classes=num_classes)\n",
        "# Print dataset shape\n",
        "print(f\"Training set: {x_train.shape}, Labels: {y_train.shape}\")\n",
        "print(f\"Testing set: {x_test.shape}, Labels: {y_test.shape}\")\n",
        "# Visualize some images\n",
        "\n",
        "for i in range(10):\n",
        "  plt.figure(figsize=(10, 4))\n",
        "  plt.subplot(2, 5, i + 1)\n",
        "  plt.imshow(x_train[i].reshape(28, 28), cmap=\"gray\")\n",
        "  plt.title(f\"Label: {np.argmax(y_train[i])}\")\n",
        "  plt.axis(\"off\")\n",
        "  plt.show()"
      ],
      "metadata": {
        "colab": {
          "base_uri": "https://localhost:8080/",
          "height": 1000
        },
        "id": "8dZCvrivvCMt",
        "outputId": "c162a436-a0d3-4ea5-accd-00ca580fcca1"
      },
      "execution_count": null,
      "outputs": [
        {
          "output_type": "stream",
          "name": "stdout",
          "text": [
            "Training set: (17000, 28, 28, 1), Labels: (17000, 10)\n",
            "Testing set: (3000, 28, 28, 1), Labels: (3000, 10)\n"
          ]
        },
        {
          "output_type": "display_data",
          "data": {
            "text/plain": [
              "<Figure size 1000x400 with 1 Axes>"
            ],
            "image/png": "[encoded data removed]"
          },
          "metadata": {}
        },
        {
          "output_type": "display_data",
          "data": {
            "text/plain": [
              "<Figure size 1000x400 with 1 Axes>"
            ],
            "image/png": "[encoded data removed]"
          },
          "metadata": {}
        },
        {
          "output_type": "display_data",
          "data": {
            "text/plain": [
              "<Figure size 1000x400 with 1 Axes>"
            ],
            "image/png": "[encoded data removed]"
          },
          "metadata": {}
        },
        {
          "output_type": "display_data",
          "data": {
            "text/plain": [
              "<Figure size 1000x400 with 1 Axes>"
            ],
            "image/png": "[encoded data removed]"
          },
          "metadata": {}
        },
        {
          "output_type": "display_data",
          "data": {
            "text/plain": [
              "<Figure size 1000x400 with 1 Axes>"
            ],
            "image/png": "[encoded data removed]"
          },
          "metadata": {}
        },
        {
          "output_type": "display_data",
          "data": {
            "text/plain": [
              "<Figure size 1000x400 with 1 Axes>"
            ],
            "image/png": "[encoded data removed]"
          },
          "metadata": {}
        },
        {
          "output_type": "display_data",
          "data": {
            "text/plain": [
              "<Figure size 1000x400 with 1 Axes>"
            ],
            "image/png": "[encoded data removed]"
          },
          "metadata": {}
        },
        {
          "output_type": "display_data",
          "data": {
            "text/plain": [
              "<Figure size 1000x400 with 1 Axes>"
            ],
            "image/png": "[encoded data removed]"
          },
          "metadata": {}
        },
        {
          "output_type": "display_data",
          "data": {
            "text/plain": [
              "<Figure size 1000x400 with 1 Axes>"
            ],
            "image/png": "[encoded data removed]"
          },
          "metadata": {}
        },
        {
          "output_type": "display_data",
          "data": {
            "text/plain": [
              "<Figure size 1000x400 with 1 Axes>"
            ],
            "image/png": "[encoded data removed]"
          },
          "metadata": {}
        }
      ]
    },
    {
      "cell_type": "markdown",
      "source": [
        "## Task 2: Build the FCN Model\n",
        "### Model Architecture\n",
        "#### • Create a Sequential model using Keras.\n",
        "#### • Add 3 hidden layers with the following number of neurons:\n",
        "##### – 1st hidden layer: 64 neurons\n",
        "##### – 2nd hidden layer: 128 neurons\n",
        "##### – 3rd hidden layer: 256 neurons\n",
        "#### • Use sigmoid activation functions for all hidden layers.\n",
        "#### • Add an output layer with 10 units with softmax (since Devnagari digits have 10 classes) and a softmax activation function."
      ],
      "metadata": {
        "id": "AAKKg5-tuNFo"
      }
    },
    {
      "cell_type": "code",
      "source": [
        "input_shape = (28, 28, 1)\n",
        "model = keras.Sequential([\n",
        "    keras.layers.Input(shape = input_shape),\n",
        "    keras.layers.Flatten(),\n",
        "    keras.layers.Dense(16, activation='sigmoid'),\n",
        "    keras.layers.Dense(32, activation='sigmoid'),\n",
        "    keras.layers.Dense(32, activation='sigmoid'),\n",
        "    keras.layers.Dense(num_classes, activation='softmax'),\n",
        "])"
      ],
      "metadata": {
        "id": "yPngM3tpaDGN"
      },
      "execution_count": null,
      "outputs": []
    },
    {
      "cell_type": "code",
      "source": [
        "model.summary()"
      ],
      "metadata": {
        "colab": {
          "base_uri": "https://localhost:8080/",
          "height": 289
        },
        "id": "y7iKnEXCaobk",
        "outputId": "db19af20-f83c-4157-ca8b-d2956abfafdc"
      },
      "execution_count": null,
      "outputs": [
        {
          "output_type": "display_data",
          "data": {
            "text/plain": [
              "\u001b[1mModel: \"sequential_10\"\u001b[0m\n"
            ],
            "text/html": [
              "<pre style=\"white-space:pre;overflow-x:auto;line-height:normal;font-family:Menlo,'DejaVu Sans Mono',consolas,'Courier New',monospace\"><span style=\"font-weight: bold\">Model: \"sequential_10\"</span>\n",
              "</pre>\n"
            ]
          },
          "metadata": {}
        },
        {
          "output_type": "display_data",
          "data": {
            "text/plain": [
              "┏━━━━━━━━━━━━━━━━━━━━━━━━━━━━━━━━━━━━━━┳━━━━━━━━━━━━━━━━━━━━━━━━━━━━━┳━━━━━━━━━━━━━━━━━┓\n",
              "┃\u001b[1m \u001b[0m\u001b[1mLayer (type)                        \u001b[0m\u001b[1m \u001b[0m┃\u001b[1m \u001b[0m\u001b[1mOutput Shape               \u001b[0m\u001b[1m \u001b[0m┃\u001b[1m \u001b[0m\u001b[1m        Param #\u001b[0m\u001b[1m \u001b[0m┃\n",
              "┡━━━━━━━━━━━━━━━━━━━━━━━━━━━━━━━━━━━━━━╇━━━━━━━━━━━━━━━━━━━━━━━━━━━━━╇━━━━━━━━━━━━━━━━━┩\n",
              "│ flatten_10 (\u001b[38;5;33mFlatten\u001b[0m)                 │ (\u001b[38;5;45mNone\u001b[0m, \u001b[38;5;34m784\u001b[0m)                 │               \u001b[38;5;34m0\u001b[0m │\n",
              "├──────────────────────────────────────┼─────────────────────────────┼─────────────────┤\n",
              "│ dense_40 (\u001b[38;5;33mDense\u001b[0m)                     │ (\u001b[38;5;45mNone\u001b[0m, \u001b[38;5;34m16\u001b[0m)                  │          \u001b[38;5;34m12,560\u001b[0m │\n",
              "├──────────────────────────────────────┼─────────────────────────────┼─────────────────┤\n",
              "│ dense_41 (\u001b[38;5;33mDense\u001b[0m)                     │ (\u001b[38;5;45mNone\u001b[0m, \u001b[38;5;34m32\u001b[0m)                  │             \u001b[38;5;34m544\u001b[0m │\n",
              "├──────────────────────────────────────┼─────────────────────────────┼─────────────────┤\n",
              "│ dense_42 (\u001b[38;5;33mDense\u001b[0m)                     │ (\u001b[38;5;45mNone\u001b[0m, \u001b[38;5;34m32\u001b[0m)                  │           \u001b[38;5;34m1,056\u001b[0m │\n",
              "├──────────────────────────────────────┼─────────────────────────────┼─────────────────┤\n",
              "│ dense_43 (\u001b[38;5;33mDense\u001b[0m)                     │ (\u001b[38;5;45mNone\u001b[0m, \u001b[38;5;34m10\u001b[0m)                  │             \u001b[38;5;34m330\u001b[0m │\n",
              "└──────────────────────────────────────┴─────────────────────────────┴─────────────────┘\n"
            ],
            "text/html": [
              "<pre style=\"white-space:pre;overflow-x:auto;line-height:normal;font-family:Menlo,'DejaVu Sans Mono',consolas,'Courier New',monospace\">┏━━━━━━━━━━━━━━━━━━━━━━━━━━━━━━━━━━━━━━┳━━━━━━━━━━━━━━━━━━━━━━━━━━━━━┳━━━━━━━━━━━━━━━━━┓\n",
              "┃<span style=\"font-weight: bold\"> Layer (type)                         </span>┃<span style=\"font-weight: bold\"> Output Shape                </span>┃<span style=\"font-weight: bold\">         Param # </span>┃\n",
              "┡━━━━━━━━━━━━━━━━━━━━━━━━━━━━━━━━━━━━━━╇━━━━━━━━━━━━━━━━━━━━━━━━━━━━━╇━━━━━━━━━━━━━━━━━┩\n",
              "│ flatten_10 (<span style=\"color: #0087ff; text-decoration-color: #0087ff\">Flatten</span>)                 │ (<span style=\"color: #00d7ff; text-decoration-color: #00d7ff\">None</span>, <span style=\"color: #00af00; text-decoration-color: #00af00\">784</span>)                 │               <span style=\"color: #00af00; text-decoration-color: #00af00\">0</span> │\n",
              "├──────────────────────────────────────┼─────────────────────────────┼─────────────────┤\n",
              "│ dense_40 (<span style=\"color: #0087ff; text-decoration-color: #0087ff\">Dense</span>)                     │ (<span style=\"color: #00d7ff; text-decoration-color: #00d7ff\">None</span>, <span style=\"color: #00af00; text-decoration-color: #00af00\">16</span>)                  │          <span style=\"color: #00af00; text-decoration-color: #00af00\">12,560</span> │\n",
              "├──────────────────────────────────────┼─────────────────────────────┼─────────────────┤\n",
              "│ dense_41 (<span style=\"color: #0087ff; text-decoration-color: #0087ff\">Dense</span>)                     │ (<span style=\"color: #00d7ff; text-decoration-color: #00d7ff\">None</span>, <span style=\"color: #00af00; text-decoration-color: #00af00\">32</span>)                  │             <span style=\"color: #00af00; text-decoration-color: #00af00\">544</span> │\n",
              "├──────────────────────────────────────┼─────────────────────────────┼─────────────────┤\n",
              "│ dense_42 (<span style=\"color: #0087ff; text-decoration-color: #0087ff\">Dense</span>)                     │ (<span style=\"color: #00d7ff; text-decoration-color: #00d7ff\">None</span>, <span style=\"color: #00af00; text-decoration-color: #00af00\">32</span>)                  │           <span style=\"color: #00af00; text-decoration-color: #00af00\">1,056</span> │\n",
              "├──────────────────────────────────────┼─────────────────────────────┼─────────────────┤\n",
              "│ dense_43 (<span style=\"color: #0087ff; text-decoration-color: #0087ff\">Dense</span>)                     │ (<span style=\"color: #00d7ff; text-decoration-color: #00d7ff\">None</span>, <span style=\"color: #00af00; text-decoration-color: #00af00\">10</span>)                  │             <span style=\"color: #00af00; text-decoration-color: #00af00\">330</span> │\n",
              "└──────────────────────────────────────┴─────────────────────────────┴─────────────────┘\n",
              "</pre>\n"
            ]
          },
          "metadata": {}
        },
        {
          "output_type": "display_data",
          "data": {
            "text/plain": [
              "\u001b[1m Total params: \u001b[0m\u001b[38;5;34m14,490\u001b[0m (56.60 KB)\n"
            ],
            "text/html": [
              "<pre style=\"white-space:pre;overflow-x:auto;line-height:normal;font-family:Menlo,'DejaVu Sans Mono',consolas,'Courier New',monospace\"><span style=\"font-weight: bold\"> Total params: </span><span style=\"color: #00af00; text-decoration-color: #00af00\">14,490</span> (56.60 KB)\n",
              "</pre>\n"
            ]
          },
          "metadata": {}
        },
        {
          "output_type": "display_data",
          "data": {
            "text/plain": [
              "\u001b[1m Trainable params: \u001b[0m\u001b[38;5;34m14,490\u001b[0m (56.60 KB)\n"
            ],
            "text/html": [
              "<pre style=\"white-space:pre;overflow-x:auto;line-height:normal;font-family:Menlo,'DejaVu Sans Mono',consolas,'Courier New',monospace\"><span style=\"font-weight: bold\"> Trainable params: </span><span style=\"color: #00af00; text-decoration-color: #00af00\">14,490</span> (56.60 KB)\n",
              "</pre>\n"
            ]
          },
          "metadata": {}
        },
        {
          "output_type": "display_data",
          "data": {
            "text/plain": [
              "\u001b[1m Non-trainable params: \u001b[0m\u001b[38;5;34m0\u001b[0m (0.00 B)\n"
            ],
            "text/html": [
              "<pre style=\"white-space:pre;overflow-x:auto;line-height:normal;font-family:Menlo,'DejaVu Sans Mono',consolas,'Courier New',monospace\"><span style=\"font-weight: bold\"> Non-trainable params: </span><span style=\"color: #00af00; text-decoration-color: #00af00\">0</span> (0.00 B)\n",
              "</pre>\n"
            ]
          },
          "metadata": {}
        }
      ]
    },
    {
      "cell_type": "markdown",
      "source": [
        "## Task 3: Compile the Model\n",
        "### Model Compilation\n",
        "#### • Choose an appropriate optimizer (e.g., Adam), loss function (e.g., sparse categorical crossentropy), and evaluation metric (e.g., accuracy)."
      ],
      "metadata": {
        "id": "5hB-lHUYuNKJ"
      }
    },
    {
      "cell_type": "code",
      "source": [
        "model.compile(\n",
        "    optimizer='adam',\n",
        "    loss='categorical_crossentropy',\n",
        "    metrics=['accuracy']\n",
        ")"
      ],
      "metadata": {
        "id": "Sl9pzelF-cQH"
      },
      "execution_count": null,
      "outputs": []
    },
    {
      "cell_type": "markdown",
      "source": [
        "## Task 4: Train the Model\n",
        "### Model Training\n",
        "#### • Use the model.fit() function to train the model. Set the batch size to 128 and the number of epochs to 20.\n",
        "#### • Use validation split (validation split=0.2) to monitor the model’s performance on validation data.\n",
        "#### • Optionally, use callbacks such as ModelCheckpoint and EarlyStopping for saving the best model and avoiding overfitting."
      ],
      "metadata": {
        "id": "azL5WRuxuNNe"
      }
    },
    {
      "cell_type": "code",
      "source": [
        "batch_size = 128\n",
        "epochs = 20\n",
        "\n",
        "callbacks = [\n",
        "    keras.callbacks.EarlyStopping(monitor=\"val_loss\", patience = 4)\n",
        "]\n",
        "\n",
        "model.fit(\n",
        "    x = x_train,\n",
        "    y = y_train,\n",
        "    batch_size = batch_size,\n",
        "    epochs = epochs,\n",
        "    validation_split = 0.2,\n",
        "    callbacks = callbacks\n",
        ")"
      ],
      "metadata": {
        "id": "EVH-9dWn-cdL",
        "colab": {
          "base_uri": "https://localhost:8080/"
        },
        "outputId": "ad2f2993-8ee1-46ae-9932-de93a946181a"
      },
      "execution_count": null,
      "outputs": [
        {
          "output_type": "stream",
          "name": "stdout",
          "text": [
            "Epoch 1/20\n",
            "\u001b[1m107/107\u001b[0m \u001b[32m━━━━━━━━━━━━━━━━━━━━\u001b[0m\u001b[37m\u001b[0m \u001b[1m2s\u001b[0m 6ms/step - accuracy: 0.2046 - loss: 2.3074 - val_accuracy: 0.0000e+00 - val_loss: 3.9464\n",
            "Epoch 2/20\n",
            "\u001b[1m107/107\u001b[0m \u001b[32m━━━━━━━━━━━━━━━━━━━━\u001b[0m\u001b[37m\u001b[0m \u001b[1m0s\u001b[0m 4ms/step - accuracy: 0.4878 - loss: 1.9105 - val_accuracy: 0.0000e+00 - val_loss: 4.6360\n",
            "Epoch 3/20\n",
            "\u001b[1m107/107\u001b[0m \u001b[32m━━━━━━━━━━━━━━━━━━━━\u001b[0m\u001b[37m\u001b[0m \u001b[1m1s\u001b[0m 4ms/step - accuracy: 0.6297 - loss: 1.4534 - val_accuracy: 0.0000e+00 - val_loss: 5.1182\n",
            "Epoch 4/20\n",
            "\u001b[1m107/107\u001b[0m \u001b[32m━━━━━━━━━━━━━━━━━━━━\u001b[0m\u001b[37m\u001b[0m \u001b[1m1s\u001b[0m 4ms/step - accuracy: 0.7542 - loss: 1.0365 - val_accuracy: 0.0000e+00 - val_loss: 5.5507\n",
            "Epoch 5/20\n",
            "\u001b[1m107/107\u001b[0m \u001b[32m━━━━━━━━━━━━━━━━━━━━\u001b[0m\u001b[37m\u001b[0m \u001b[1m0s\u001b[0m 4ms/step - accuracy: 0.8376 - loss: 0.7891 - val_accuracy: 0.0000e+00 - val_loss: 5.9151\n"
          ]
        },
        {
          "output_type": "execute_result",
          "data": {
            "text/plain": [
              "<keras.src.callbacks.history.History at 0x7ce37d4da1d0>"
            ]
          },
          "metadata": {},
          "execution_count": 145
        }
      ]
    },
    {
      "cell_type": "markdown",
      "source": [
        "## Task 5: Evaluate the Model\n",
        "### Model Evaluation\n",
        "#### • After training, evaluate the model using model.evaluate() on the test set to check the test accuracy and loss."
      ],
      "metadata": {
        "id": "JZZtcwt0uNQ5"
      }
    },
    {
      "cell_type": "code",
      "source": [
        "test_loss, test_acc = model.evaluate(\n",
        "    x=x_test,\n",
        "    y=y_test,\n",
        "    batch_size=batch_size,\n",
        "    verbose=2,\n",
        "    sample_weight=None,\n",
        "    steps=None,\n",
        "    callbacks=callbacks\n",
        ")\n",
        "\n",
        "print(f\"Testing accuracy: {test_acc:.4f} The accuracy value computed based on the test dataset. It shows the proportion of correct predictions made by the model.\")\n",
        "print(f\"Testing loss: {test_loss:.4f} The loss value computed based on the test dataset. This gives an indication of how well the model is performing on unseen data.\")"
      ],
      "metadata": {
        "id": "4hLRzlHg-c35",
        "colab": {
          "base_uri": "https://localhost:8080/"
        },
        "outputId": "ca0b57f2-d7e5-4a9e-80c7-de096bb7fa08"
      },
      "execution_count": null,
      "outputs": [
        {
          "output_type": "stream",
          "name": "stdout",
          "text": [
            "24/24 - 0s - 4ms/step - accuracy: 0.6920 - loss: 1.7144\n",
            "Testing accuracy: 0.6920 The accuracy value computed based on the test dataset. It shows the proportion of correct predictions made by the model.\n",
            "Testing loss: 1.7144 The loss value computed based on the test dataset. This gives an indication of how well the model is performing on unseen data.\n"
          ]
        }
      ]
    },
    {
      "cell_type": "markdown",
      "source": [
        "## Task 6: Save and Load the Model\n",
        "### Model Saving and Loading\n",
        "#### • Save the trained model to an .h5 file using model.save().\n",
        "#### • Load the saved model and re-evaluate its performance on the test set."
      ],
      "metadata": {
        "id": "B07N7QBKuNUP"
      }
    },
    {
      "cell_type": "code",
      "source": [
        "model.save(\"devanagari_digit_model.keras\")"
      ],
      "metadata": {
        "id": "vxrD9qgO-dCd"
      },
      "execution_count": null,
      "outputs": []
    },
    {
      "cell_type": "code",
      "source": [
        "loaded_model = tf.keras.models.load_model(\"devanagari_digit_model.keras\")\n",
        "\n",
        "loaded_model.compile(\n",
        "    optimizer=\"adam\",\n",
        "    loss=\"categorical_crossentropy\",\n",
        "    metrics=[\"accuracy\"]\n",
        ")\n",
        "\n",
        "test_loss, test_acc = loaded_model.evaluate(\n",
        "    x=x_test,\n",
        "    y=y_test,\n",
        "    batch_size=batch_size,\n",
        "    verbose=2\n",
        ")\n",
        "\n",
        "print(f\"Testing accuracy: {test_acc:.4f}\")\n",
        "print(f\"Testing loss: {test_loss:.4f}\")"
      ],
      "metadata": {
        "colab": {
          "base_uri": "https://localhost:8080/"
        },
        "id": "0mKZiG-Nv4bM",
        "outputId": "dad90beb-f5cd-4fc7-9bbc-ee61cb6163b3"
      },
      "execution_count": null,
      "outputs": [
        {
          "output_type": "stream",
          "name": "stdout",
          "text": [
            "24/24 - 0s - 16ms/step - accuracy: 0.6920 - loss: 1.7144\n",
            "Testing accuracy: 0.6920\n",
            "Testing loss: 1.7144\n"
          ]
        }
      ]
    },
    {
      "cell_type": "markdown",
      "source": [
        "## Task 7: Predictions\n",
        "### Making Predictions\n",
        "#### • Use model.predict() to make predictions on test images.\n",
        "#### • Convert the model’s predicted probabilities to digit labels using np.argmax().\n",
        "## Expected Deliverables\n",
        "### • Code Implementation: Complete code for building, training, evaluating, saving, and loading the model.\n",
        "### • Visualization: Graphs showing the training and validation loss and accuracy.\n",
        "### • Test Accuracy: Display the final test accuracy.\n",
        "### • Saved Model: Submit the saved .h5 model file."
      ],
      "metadata": {
        "id": "9UEiOPS8uNXk"
      }
    },
    {
      "cell_type": "code",
      "source": [
        "predictions = model.predict(x_test)\n",
        "\n",
        "prediction_labels = np.argmax(predictions, axis=1)\n",
        "actual_labels = np.argmax(y_test, axis=1)\n",
        "\n",
        "print(f\"Predicted labels: {prediction_labels[:10]}\")\n",
        "print(f\"Actual labels: {actual_labels[:10]}\")"
      ],
      "metadata": {
        "colab": {
          "base_uri": "https://localhost:8080/"
        },
        "id": "GO5uoXupzOfA",
        "outputId": "d47cad46-b9e8-4d48-ea1d-deec86e58df3"
      },
      "execution_count": null,
      "outputs": [
        {
          "output_type": "stream",
          "name": "stdout",
          "text": [
            "\u001b[1m94/94\u001b[0m \u001b[32m━━━━━━━━━━━━━━━━━━━━\u001b[0m\u001b[37m\u001b[0m \u001b[1m0s\u001b[0m 2ms/step\n",
            "Predicted labels: [0 0 0 0 0 0 0 0 0 0]\n",
            "Actual labels: [0 0 0 0 0 0 0 0 0 0]\n"
          ]
        }
      ]
    },
    {
      "cell_type": "code",
      "source": [
        "history = model.fit(\n",
        "    x=x_train,\n",
        "    y=y_train,\n",
        "    batch_size=batch_size,\n",
        "    epochs=epochs,\n",
        "    validation_split=0.2,\n",
        "    callbacks=callbacks\n",
        ")"
      ],
      "metadata": {
        "id": "oaBtwqiYt4OO",
        "colab": {
          "base_uri": "https://localhost:8080/"
        },
        "outputId": "3a7da673-7034-4d02-9c3a-84f5eb86364a"
      },
      "execution_count": null,
      "outputs": [
        {
          "output_type": "stream",
          "name": "stdout",
          "text": [
            "Epoch 1/20\n",
            "\u001b[1m107/107\u001b[0m \u001b[32m━━━━━━━━━━━━━━━━━━━━\u001b[0m\u001b[37m\u001b[0m \u001b[1m0s\u001b[0m 4ms/step - accuracy: 0.8805 - loss: 0.6245 - val_accuracy: 0.0000e+00 - val_loss: 6.2283\n",
            "Epoch 2/20\n",
            "\u001b[1m107/107\u001b[0m \u001b[32m━━━━━━━━━━━━━━━━━━━━\u001b[0m\u001b[37m\u001b[0m \u001b[1m1s\u001b[0m 4ms/step - accuracy: 0.9001 - loss: 0.5043 - val_accuracy: 0.0000e+00 - val_loss: 6.5030\n",
            "Epoch 3/20\n",
            "\u001b[1m107/107\u001b[0m \u001b[32m━━━━━━━━━━━━━━━━━━━━\u001b[0m\u001b[37m\u001b[0m \u001b[1m1s\u001b[0m 4ms/step - accuracy: 0.9274 - loss: 0.4099 - val_accuracy: 0.0000e+00 - val_loss: 6.7833\n",
            "Epoch 4/20\n",
            "\u001b[1m107/107\u001b[0m \u001b[32m━━━━━━━━━━━━━━━━━━━━\u001b[0m\u001b[37m\u001b[0m \u001b[1m0s\u001b[0m 4ms/step - accuracy: 0.9333 - loss: 0.3465 - val_accuracy: 0.0000e+00 - val_loss: 7.0317\n",
            "Epoch 5/20\n",
            "\u001b[1m107/107\u001b[0m \u001b[32m━━━━━━━━━━━━━━━━━━━━\u001b[0m\u001b[37m\u001b[0m \u001b[1m1s\u001b[0m 4ms/step - accuracy: 0.9443 - loss: 0.2902 - val_accuracy: 0.0000e+00 - val_loss: 7.3033\n"
          ]
        }
      ]
    },
    {
      "cell_type": "code",
      "source": [
        "plt.figure(figsize=(12, 7))\n",
        "\n",
        "plt.subplot(1, 2, 1)\n",
        "plt.plot(history.history['accuracy'])\n",
        "plt.plot(history.history['val_accuracy'])\n",
        "plt.title('Model accuracy')\n",
        "plt.ylabel('Accuracy')\n",
        "plt.xlabel('Epoch')\n",
        "plt.legend(['Train', 'Validation'])\n",
        "\n",
        "plt.subplot(1, 2, 2)\n",
        "plt.plot(history.history['loss'])\n",
        "plt.plot(history.history['val_loss'])\n",
        "plt.title('Model loss')\n",
        "plt.ylabel('Loss')\n",
        "plt.xlabel('Epoch')\n",
        "plt.legend(['Train', 'Validation'])\n",
        "\n",
        "plt.show()"
      ],
      "metadata": {
        "colab": {
          "base_uri": "https://localhost:8080/",
          "height": 641
        },
        "id": "wlo73C_Nw3rS",
        "outputId": "95ce38ee-68fd-4421-852d-9ce24768094e"
      },
      "execution_count": null,
      "outputs": [
        {
          "output_type": "display_data",
          "data": {
            "text/plain": [
              "<Figure size 1200x700 with 2 Axes>"
            ],
            "image/png": "[encoded data removed]"
          },
          "metadata": {}
        }
      ]
    }
  ]
}